{
 "cells": [
  {
   "cell_type": "code",
   "execution_count": null,
   "metadata": {},
   "outputs": [],
   "source": [
    "from nbtemplate import display_header, get_path, display_codetoggle\n",
    "display_header('ImpactL1L2.ipynb')"
   ]
  },
  {
   "cell_type": "markdown",
   "metadata": {},
   "source": [
    "# Impact of L1 and L2 CAT grating support on effective area and resolving power\n",
    "\n",
    "In the simplest simulations for Lynx, we did not take into account the L1 and L2 support structures that hold the CAT grating bars in place in detail, we simply reduced the effective area by the geometrical area covered. In the more advanced design work (starting in July 2019) we added a little more realism to the treatment of L1 and L2 support. In particular:\n",
    "\n",
    "- L1 support bars are not totally opaque. They are thin enough that some hard X-rays pass through, increasing the effective area of the zeroths order compared to the simplest model.\n",
    "- There is cross dispersion on the L1 bars, which widens the signal in cross-dispersion direction. Those photons can be recovered using a wider extraction region for the astrophysical signal, but at the cost of increased background in the extraction regions. We treat the L1 cross dispersion as if it was independent from the CAT grating. This is an approximation, since the L1 support bars touch the CAT grating and are thus not in the \"far field limit\".\n",
    "- The L2 support structures are long enough that the hexagon structures cast shadows for photons that are not propagating exactly parallel to the hexagon sidewalls.\n",
    "- Diffraction in the L2 hexagons will widen the beam. The structures are so large, that diffraction into higher orders is negligible and we ignore the detailed (hexagon) shape of the L2 support. Instead, we simply widen the beam using the formula for an Airy disk.\n",
    "\n",
    "In this notebook we compare some simulations with and without the details listed above to study the impact that they have on the Lynx effective area and spectral resolving power. For this comparison, we pick a fiducial Lynx configuration and do not run the comparison over all design options (grating sizes, arrangements, sub-aperturing options)."
   ]
  },
  {
   "cell_type": "code",
   "execution_count": null,
   "metadata": {},
   "outputs": [],
   "source": [
    "import numpy as np\n",
    "import astropy.units as u\n",
    "from astropy import table\n",
    "\n",
    "from marxslynx.simulations import run_monoenergetic_simulation\n",
    "from marxslynx import lynx\n",
    "from marxslynx.ralfgrating import facet_table"
   ]
  },
  {
   "cell_type": "code",
   "execution_count": null,
   "metadata": {},
   "outputs": [],
   "source": [
    "from matplotlib import pyplot as plt\n",
    "\n",
    "%matplotlib inline"
   ]
  },
  {
   "cell_type": "code",
   "execution_count": null,
   "metadata": {},
   "outputs": [],
   "source": [
    "wavegrid = np.arange(0.7, 4., 0.5) * u.nm  # 0.05 steps\n",
    "energy = wavegrid.to(u.keV, equivalencies=u.spectral())"
   ]
  },
  {
   "cell_type": "code",
   "execution_count": null,
   "metadata": {},
   "outputs": [],
   "source": [
    "instrum = {'2050': lynx.PerfectLynx(conf=lynx.conf)}"
   ]
  },
  {
   "cell_type": "code",
   "execution_count": null,
   "metadata": {},
   "outputs": [],
   "source": [
    "from copy import deepcopy\n",
    "\n",
    "from marxs.optics import CATGrating\n",
    "conf_simplecat = deepcopy(lynx.conf)\n",
    "conf_simplecat['gas_kwargs']['elem_class'] = CATGrating\n",
    "for k in ['l1_dims', 'l2_dims', 'qualityfactor', 'l1_order_selector']:\n",
    "    del conf_simplecat['gas_kwargs']['elem_args'][k]\n",
    "\n",
    "instrum['simplecat'] = lynx.PerfectLynx(conf=conf_simplecat)"
   ]
  },
  {
   "cell_type": "code",
   "execution_count": null,
   "metadata": {},
   "outputs": [],
   "source": [
    "import importlib\n",
    "import marxslynx.ralfgrating\n",
    "import marxslynx.lynx\n",
    "importlib.reload(marxslynx.ralfgrating)\n",
    "importlib.reload(marxslynx.lynx)\n",
    "\n",
    "facettab = facet_table(instrum['2050'].elements[2])"
   ]
  },
  {
   "cell_type": "code",
   "execution_count": null,
   "metadata": {},
   "outputs": [],
   "source": [
    "phot_en = []\n",
    "\n",
    "for i, e in enumerate(energy):\n",
    "    n = 1e4\n",
    "    if e.value > 1.25:\n",
    "        n=5e4\n",
    "    p = run_monoenergetic_simulation(instrum['2050'], e.value, n)\n",
    "    p = table.join(p, facettab)\n",
    "    phot_en.append(p)"
   ]
  },
  {
   "cell_type": "code",
   "execution_count": null,
   "metadata": {},
   "outputs": [],
   "source": [
    "phot_ensimple = []\n",
    "\n",
    "for i, e in enumerate(energy):\n",
    "    n = 1e4\n",
    "    if e.value > 1.25:\n",
    "        n=5e4\n",
    "    p = run_monoenergetic_simulation(instrum['simplecat'], e.value, n)\n",
    "    p = table.join(p, facettab)\n",
    "    phot_ensimple.append(p)"
   ]
  },
  {
   "cell_type": "code",
   "execution_count": null,
   "metadata": {},
   "outputs": [],
   "source": [
    "from marxs.analysis import resolvingpower_from_photonlist\n",
    "\n",
    "orders = instrum['2050'].elements[2].elements[0].elements[0].order_selector.orders\n",
    "\n",
    "def res_power_angle(photons, subaperangle, ang_0=0):\n",
    "    resolvingpower = np.zeros((len(subaperangle), len(orders)))\n",
    "    aeff_per_order = np.zeros_like(resolvingpower)\n",
    "    for i, ang in enumerate(subaperangle):\n",
    "        ind = np.abs(np.abs(photons['facet_ang']) - ang_0) < ang\n",
    "        res, width, pos = resolvingpower_from_photonlist(photons[ind], orders, zeropos=0, col='projcirc_y')\n",
    "        resolvingpower[i, :] = res\n",
    "        aeff_per_order[i, :] = [photons['probability'][ind & (photons['order'] == o)].sum() for o in orders]\n",
    "    aeff_per_order = aeff_per_order * instrum['2050'].elements[0].area.to(u.cm**2) / photons.meta['EXPOSURE'][0]\n",
    "    return resolvingpower, aeff_per_order"
   ]
  },
  {
   "cell_type": "code",
   "execution_count": null,
   "metadata": {},
   "outputs": [],
   "source": [
    "subaperangle = np.linspace(0, np.pi, 7)[1:]\n",
    "tsubaperangle = np.linspace(0, np.pi/2, 7)[1:]\n",
    "\n",
    "for p in phot_en:\n",
    "    ind = p['CCD_ID'] >= 0\n",
    "    trespow, taeff = res_power_angle(p[ind], tsubaperangle, np.pi/2)\n",
    "    p.trespow = trespow\n",
    "    p.taeff = taeff\n",
    "    respow, aeff = res_power_angle(p[ind], subaperangle)\n",
    "    p.respow = respow\n",
    "    p.aeff = aeff"
   ]
  },
  {
   "cell_type": "code",
   "execution_count": null,
   "metadata": {},
   "outputs": [],
   "source": [
    "for p in phot_ensimple:\n",
    "    ind = p['CCD_ID'] >= 0\n",
    "    trespow, taeff = res_power_angle(p[ind], tsubaperangle, np.pi/2)\n",
    "    p.trespow = trespow\n",
    "    p.taeff = taeff\n",
    "    respow, aeff = res_power_angle(p[ind], subaperangle)\n",
    "    p.respow = respow\n",
    "    p.aeff = aeff"
   ]
  },
  {
   "cell_type": "code",
   "execution_count": null,
   "metadata": {},
   "outputs": [],
   "source": [
    "ang = np.rad2deg(tsubaperangle) * 4"
   ]
  },
  {
   "cell_type": "code",
   "execution_count": null,
   "metadata": {},
   "outputs": [],
   "source": [
    "ind = orders != 0\n",
    "pres = np.zeros((len(tsubaperangle), len(energy)))\n",
    "psres = np.zeros_like(pres)\n",
    "\n",
    "for i in range(len(energy)):\n",
    "    ps = phot_ensimple[i]\n",
    "    psres[:, i] = np.ma.average(np.ma.masked_invalid(ps.trespow[:, ind]), \n",
    "                          weights=np.ma.masked_invalid(ps.taeff[:, ind]), axis=1)\n",
    "    ps = phot_en[i]\n",
    "    pres[:, i] = np.ma.average(np.ma.masked_invalid(ps.trespow[:, ind]), \n",
    "                          weights=np.ma.masked_invalid(ps.taeff[:, ind]), axis=1)"
   ]
  },
  {
   "cell_type": "markdown",
   "metadata": {},
   "source": [
    "## L2 diffraction"
   ]
  },
  {
   "cell_type": "code",
   "execution_count": null,
   "metadata": {},
   "outputs": [],
   "source": [
    "with plt.style.context('fivethirtyeight'):\n",
    "    fig, ax = plt.subplots(ncols=2, figsize=(10, 6))\n",
    "    line, = ax[0].plot(ang, psres[:, 3], label='simple')\n",
    "    line, = ax[0].plot(ang, pres[:, 3], label='L2 diffraction')\n",
    "    ax[0].legend()\n",
    "    ax[0].set_ylabel('Resolving power $R$')\n",
    "    ax[0].set_xlabel('subaperturing angle [deg]')\n",
    "    # picked slice 0 because that looks almost like it should. Not sure what's going on with the others,\n",
    "    # but no time to debug now. There are effects that could make it the way it looks, so I don't\n",
    "    # think it's a bug; it's just that I don't understand what it's telling me.\n",
    "    ax[1].plot(wavegrid, (pres / psres)[0, :])\n",
    "    ax[1].set_xlabel('wavelength [nm]')\n",
    "    ax[1].set_ylabel('$R_{\\mathrm{simple}} / R_{\\mathrm{incl L2 diffraction}}$')\n",
    "    fig.suptitle('Diffraction by L2 hexagons', fontsize=40)\n",
    "    fig.savefig(get_path('figures') + '/L2respos.png', \n",
    "            dpi=300, bbox_inches='tight')\n",
    "    fig.savefig(get_path('figures') + '/L2respow.pdf', bbox_inches='tight')"
   ]
  },
  {
   "cell_type": "markdown",
   "metadata": {},
   "source": [
    "*Left:* Resolving power for a simple simulation ignoring the L2\n",
    "diffraction and our approximation for the L2 diffraction. Simulations for\n",
    "different sub-aperturing angles are shown. Choosing the best sub-aperturing\n",
    "angle leads to a better $R$. However, for a higher $R$ the L2 diffraction is more\n",
    "important relative to other effects that broaden the beam. \n",
    "\n",
    "*Right:* Ratio\n",
    "of simulations with and without L2 diffraction for different\n",
    "wavelengths to verify the theoretically expected wavelength dependence."
   ]
  },
  {
   "cell_type": "code",
   "execution_count": null,
   "metadata": {},
   "outputs": [],
   "source": [
    "bins = np.arange(634.2, 634.7, 0.02)\n",
    "\n",
    "fig, ax = plt.subplots(ncols=2, nrows=2)\n",
    "p = phot_ensimple[3]\n",
    "ind = (p['order'] == -6) \n",
    "scat = ax[0, 0].scatter(p['projcirc_y'][ind], p['projcirc_z'][ind], \n",
    "            c=np.rad2deg(p['facet_ang'])[ind])\n",
    "out = ax[1, 0].hist(p['projcirc_y'][ind], label='simple', bins=bins)\n",
    "out = ax[1, 1].hist(p['projcirc_y'][ind], weights=p['probability'][ind], label='simple', bins=bins)\n",
    "#print(np.std(p['projcirc_y'][ind]))\n",
    "p = phot_en[3]\n",
    "ind = (p['order'] == -6) \n",
    "scat = ax[0, 1].scatter(p['projcirc_y'][ind], p['projcirc_z'][ind], \n",
    "            c=np.rad2deg(p['facet_ang'])[ind])\n",
    "\n",
    "out2 = ax[1, 0].hist(p['projcirc_y'][ind], histtype='step', label='with L1/L2\\ndiffraction', bins=bins)\n",
    "out2 = ax[1, 1].hist(p['projcirc_y'][ind], weights=p['probability'][ind], histtype='step', \n",
    "                     label='with L1/L2\\ndiffraction', bins=bins)\n",
    "ax[1,0].legend(loc='upper left')\n",
    "#print(np.std(p['projcirc_y'][ind]))"
   ]
  },
  {
   "cell_type": "markdown",
   "metadata": {},
   "source": [
    "In this plot, we look at the distribution of photons for a simple simulation (left) and one that includes L1 and L2 diffraction (right). The top row shows the distribution of photons on the detector (the color denotes the angle of the facet that the photon passed through, so you can see how sub-aperturing would affect the resolving power). \n",
    "\n",
    "The bottom row shows histograms of the photons distribution along the dispersion direction for both simulations. Note the very different scales on the y axis for the two plots in the top row. That is due to the L1 diffraction that causes some of the photons to be diffracted perpendicular to the diffraction direction of the main gratings. The histogram is lower in the simulation that includes L1 and L2 effects, because both L1 and L2 structures absorb some light. Although the peak is lower, the histogram has the almost the same width, in other words, it has a larger FWHM. This is the effect of the L2 diffraction."
   ]
  },
  {
   "cell_type": "code",
   "execution_count": null,
   "metadata": {},
   "outputs": [],
   "source": [
    "photons = phot_en[3][phot_en[3]['probability'] > 0]\n",
    "plt.scatter(photons['projcirc_y'], photons['projcirc_z'], c=photons['order'])\n",
    "plt.colorbar(label='Diffraction order')\n",
    "plt.xlabel('Dispersion direction in focal plane [mm]')\n",
    "plt.ylabel('Cross-dispersion direction [mm]')"
   ]
  },
  {
   "cell_type": "code",
   "execution_count": null,
   "metadata": {},
   "outputs": [],
   "source": [
    "photonss = phot_ensimple[3][phot_ensimple[3]['probability'] > 0]\n",
    "plt.scatter(photonss['projcirc_y'], photonss['projcirc_z'], c=photonss['order'])\n",
    "plt.colorbar(label='Diffraction order')\n",
    "plt.xlabel('Dispersion direction in focal plane [mm]')\n",
    "plt.ylabel('Cross-dispersion direction [mm]')"
   ]
  },
  {
   "cell_type": "markdown",
   "metadata": {},
   "source": [
    "The two plots above show the effect of the L1 diffraction on the pattern globally. The \"fish\" shaped lower plot is fro ma simulation without L1 diffraction. The Rowland configuration optimizes the width of the spot in dispersion direction, at the cost of the width in cross-dispersion direction. Only in two spots (where the torus intersect itself) is the width in cross-dispersion direction also small. The first of those is at the focal point, where the zero order photons are seen, the second one around 600 mm. Since this is a monoenergetic simulation, we see discrete orders and not a band of signal.\n",
    "\n",
    "The upper plot included L1 diffraction. Note that the range on the y-axis of the plot is much wider. The fish-shaped structure in the middle can still be made out, but now every spot is repeated above and below as a results of L1 dispersion."
   ]
  },
  {
   "cell_type": "code",
   "execution_count": null,
   "metadata": {},
   "outputs": [],
   "source": [
    "from astropy.visualization import (MinMaxInterval, LogStretch,\n",
    "                                   ImageNormalize)\n",
    "\n",
    "bins = [np.linspace(500, 700, 200), np.linspace(-20, 20, 100)]\n",
    "\n",
    "photonss = phot_ensimple[3][phot_ensimple[3]['probability'] > 0]\n",
    "Hs, xe, ye = np.histogram2d(photonss['projcirc_y'], photonss['projcirc_z'], weights=photonss['probability'],\n",
    "               bins=bins)\n",
    "\n",
    "photons = phot_en[3][phot_en[3]['probability'] > 0]\n",
    "H, xe, ye = np.histogram2d(photons['projcirc_y'], photons['projcirc_z'], weights=photons['probability'],\n",
    "               bins=bins)\n",
    "# Create an ImageNormalize object\n",
    "norm = ImageNormalize(H, interval=MinMaxInterval(), stretch=LogStretch())\n",
    "\n",
    "with plt.style.context('fivethirtyeight'):\n",
    "    fig, ax = plt.subplots(nrows=2, figsize=(10, 6))\n",
    "    im1 = ax[0].imshow(Hs.T, norm=norm, origin='lower', extent=(xe[0], xe[-1], ye[0], ye[-1]),\n",
    "                       aspect='auto', cmap=plt.get_cmap('magma'))\n",
    "    im2 = ax[1].imshow(H.T, norm=norm, origin='lower', extent=(xe[0], xe[-1], ye[0], ye[-1]),\n",
    "                       aspect='auto', cmap=plt.get_cmap('magma'))\n",
    "    cbar1=plt.colorbar(im1, ax=ax[0], ticks=[0, 10, 30, 100, 300])\n",
    "    cbar2=plt.colorbar(im2, ax=ax[1], ticks=[0, 10, 30, 100, 300])\n",
    "    ax[0].grid(False)\n",
    "    ax[1].grid(False)\n",
    "    ax[0].set_title('simple CAT grating')\n",
    "    ax[1].set_title('including L1 diffraction')\n",
    "    \n",
    "#plt.colorbar(label='Diffraction order')\n",
    "plt.xlabel('Dispersion direction in focal plane (mm)')\n",
    "plt.text(480, 65, 'Cross-dispersion direction (mm)', rotation=90, fontsize=20)\n",
    "\n",
    "fig.subplots_adjust(hspace=.3)\n",
    "fig.savefig(get_path('figures') + '/L1img.png', \n",
    "            dpi=300, bbox_inches='tight')\n",
    "fig.savefig(get_path('figures') + '/L1img.pdf', bbox_inches='tight')\n",
    "print(wavegrid[3])"
   ]
  },
  {
   "cell_type": "markdown",
   "metadata": {},
   "source": [
    "This plot focuses on two orders that are seen on the detector. It shows the same effect as above, but instead of plotting every ray as a point, this figures bins it up on the detector making use of the probability of each ray."
   ]
  },
  {
   "cell_type": "code",
   "execution_count": null,
   "metadata": {},
   "outputs": [],
   "source": [
    "display_codetoggle()"
   ]
  }
 ],
 "metadata": {
  "hide_input": false,
  "kernelspec": {
   "display_name": "Python [conda env:mayavi3]",
   "language": "python",
   "name": "conda-env-mayavi3-py"
  },
  "language_info": {
   "codemirror_mode": {
    "name": "ipython",
    "version": 3
   },
   "file_extension": ".py",
   "mimetype": "text/x-python",
   "name": "python",
   "nbconvert_exporter": "python",
   "pygments_lexer": "ipython3",
   "version": "3.6.8"
  }
 },
 "nbformat": 4,
 "nbformat_minor": 2
}
