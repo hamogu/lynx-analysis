{
 "cells": [
  {
   "cell_type": "markdown",
   "metadata": {},
   "source": [
    "# Spectral resolution and subaperturing\n",
    "\n",
    "In these notes, I'm looking at the effect that subaperturing has on the spectral resolving power that Lynx can achieve. Since most parts of the Lynx design are still in the air, there are a lot of assumptions in here, some of which might havea major influence on the result. I try to test the most important ones and call out the remaining uncertainties, but obviously this is a document in progress that must evolve with the evolving mission design.\n",
    "\n"
   ]
  },
  {
   "cell_type": "code",
   "execution_count": 1,
   "metadata": {
    "collapsed": false
   },
   "outputs": [
    {
     "data": {
      "text/html": [
       "<script>\n",
       "code_show=true; \n",
       "function code_toggle() {\n",
       " if (code_show){\n",
       " $('div.input').hide();\n",
       " } else {\n",
       " $('div.input').show();\n",
       " }\n",
       " code_show = !code_show\n",
       "} \n",
       "$( document ).ready(code_toggle);\n",
       "</script>\n",
       "<form action=\"javascript:code_toggle()\"><input type=\"submit\" value=\"Click here to toggle on/off the raw code.\"></form>"
      ],
      "text/plain": [
       "<IPython.core.display.HTML object>"
      ]
     },
     "execution_count": 1,
     "metadata": {},
     "output_type": "execute_result"
    }
   ],
   "source": [
    "from IPython.display import HTML\n",
    "\n",
    "HTML('''<script>\n",
    "code_show=true; \n",
    "function code_toggle() {\n",
    " if (code_show){\n",
    " $('div.input').hide();\n",
    " } else {\n",
    " $('div.input').show();\n",
    " }\n",
    " code_show = !code_show\n",
    "} \n",
    "$( document ).ready(code_toggle);\n",
    "</script>\n",
    "<form action=\"javascript:code_toggle()\"><input type=\"submit\" value=\"Click here to toggle on/off the raw code.\"></form>''')"
   ]
  },
  {
   "cell_type": "code",
   "execution_count": 2,
   "metadata": {
    "collapsed": true
   },
   "outputs": [],
   "source": [
    "from __future__ import print_function, division\n",
    "import sys\n",
    "import numpy as np\n",
    "from astropy.coordinates import SkyCoord\n",
    "import astropy.units as u\n",
    "import marxs\n",
    "from marxs import visualization\n",
    "\n",
    "from marxs.source import PointSource, FixedPointing, JitterPointing\n",
    "\n",
    "%matplotlib inline\n",
    "import matplotlib.pyplot as plt"
   ]
  },
  {
   "cell_type": "code",
   "execution_count": 3,
   "metadata": {
    "collapsed": false
   },
   "outputs": [
    {
     "name": "stdout",
     "output_type": "stream",
     "text": [
      "INFO: data files in version 0.0.dev8 (git hash 80ffb579cf256777f9e1af151b89cec639d3ea4c) [marxslynx.load_csv]\n",
      "INFO: Loading data from /nfs/melkor/d1/guenther/soft/anaconda/lib/python2.7/site-packages/marxslynx-0.0.dev8-py2.7.egg/marxslynx/data/gratings/efficiency.csv [marxslynx.load_csv]\n"
     ]
    }
   ],
   "source": [
    "from marxslynx import lynx"
   ]
  },
  {
   "cell_type": "code",
   "execution_count": 4,
   "metadata": {
    "collapsed": false
   },
   "outputs": [
    {
     "name": "stdout",
     "output_type": "stream",
     "text": [
      "MARXS version 1.1.dev579 (commit hash: e4533d88dd4019510ea51eed6d98f882c27b3f5c from 2017-06-26 10:43:11.132945)\n",
      "Lynx version 0.0.dev8 (commit hash: 80ffb579cf256777f9e1af151b89cec639d3ea4c from 2017-07-20 13:43:01.797819)\n"
     ]
    }
   ],
   "source": [
    "import marxs.version\n",
    "import marxslynx.version\n",
    "print('MARXS version {} (commit hash: {} from {})'.format(marxs.version.version, marxs.version.githash, marxs.version.timestamp))\n",
    "print('Lynx version {} (commit hash: {} from {})'.format(marxslynx.version.version, marxslynx.version.githash, marxslynx.version.timestamp))"
   ]
  },
  {
   "cell_type": "code",
   "execution_count": 5,
   "metadata": {
    "collapsed": false
   },
   "outputs": [
    {
     "name": "stderr",
     "output_type": "stream",
     "text": [
      "/nfs/melkor/d1/guenther/soft/anaconda/lib/python2.7/site-packages/marxs-1.1.dev579-py2.7-linux-x86_64.egg/marxs/math/polarization.py:126: RuntimeWarning: invalid value encountered in divide\n",
      "  s = s / np.linalg.norm(s, axis=1)[:, None]\n"
     ]
    }
   ],
   "source": [
    "n_photons = 1e5\n",
    "\n",
    "mysource = PointSource(coords=SkyCoord(0., 0., unit='deg'),\n",
    "                       energy=0.5,\n",
    "                       flux=1.)\n",
    "fixedpointing = FixedPointing(coords=SkyCoord(0., 0., unit='deg'))\n",
    "\n",
    "\n",
    "photons = mysource.generate_photons(n_photons)\n",
    "photons = fixedpointing(photons)\n",
    "photons = lynx.default(photons)\n",
    "photons = photons[np.isfinite(photons['order'])]"
   ]
  },
  {
   "cell_type": "code",
   "execution_count": 53,
   "metadata": {
    "collapsed": false
   },
   "outputs": [],
   "source": [
    "facetpos = np.stack(lynx.gas.elem_pos)\n",
    "#facetpos = np.stack([e.pos4d for e in lynx.gas.elements])\n",
    "facetang = np.tan(facetpos[:, 1, 3]/ facetpos[:, 2, 3])\n",
    "facetrad = np.sqrt(facetpos[:, 1, 3]**2 + facetpos[:, 2, 3]**2)"
   ]
  },
  {
   "cell_type": "code",
   "execution_count": 54,
   "metadata": {
    "collapsed": false
   },
   "outputs": [
    {
     "data": {
      "text/plain": [
       "[<matplotlib.lines.Line2D at 0x7f6b5ed9d310>]"
      ]
     },
     "execution_count": 54,
     "metadata": {},
     "output_type": "execute_result"
    },
    {
     "data": {
      "image/png": "[encoded data removed]",
      "text/plain": [
       "<matplotlib.figure.Figure at 0x7f6b5eec7250>"
      ]
     },
     "metadata": {},
     "output_type": "display_data"
    }
   ],
   "source": [
    "plt.plot(facetang, facetrad, '.')"
   ]
  },
  {
   "cell_type": "markdown",
   "metadata": {},
   "source": [
    "## Zeroth order image\n",
    "\n",
    "First, we look at a zeroth order image. That allows us to check that we got the mirror right."
   ]
  },
  {
   "cell_type": "code",
   "execution_count": 11,
   "metadata": {
    "collapsed": false
   },
   "outputs": [
    {
     "data": {
      "text/plain": [
       "<matplotlib.text.Text at 0x7f6b623dd650>"
      ]
     },
     "execution_count": 11,
     "metadata": {},
     "output_type": "execute_result"
    },
    {
     "data": {
      "image/png": "[encoded data removed]",
      "text/plain": [
       "<matplotlib.figure.Figure at 0x7f6b62420f50>"
      ]
     },
     "metadata": {},
     "output_type": "display_data"
    }
   ],
   "source": [
    "from matplotlib.ticker import NullFormatter\n",
    "\n",
    "# the random data\n",
    "ind = (photons['order'] == 0) & (np.abs(photons['proj_x'] < 10))\n",
    "pgroups = photons[ind].group_by('order')\n",
    "x = [p['proj_x'] for p in pgroups.groups]\n",
    "y = [p['proj_y'] for p in pgroups.groups]\n",
    "\n",
    "nullfmt = NullFormatter()         # no labels\n",
    "\n",
    "# definitions for the axes\n",
    "left, width = 0.1, 0.65\n",
    "bottom, height = 0.1, 0.65\n",
    "bottom_h = left_h = left + width + 0.02\n",
    "\n",
    "rect_scatter = [left, bottom, width, height]\n",
    "rect_histx = [left, bottom_h, width, 0.2]\n",
    "rect_histy = [left_h, bottom, 0.2, height]\n",
    "\n",
    "# start with a rectangular Figure\n",
    "plt.figure(1, figsize=(5, 5))\n",
    "\n",
    "axScatter = plt.axes(rect_scatter)\n",
    "axHistx = plt.axes(rect_histx)\n",
    "axHisty = plt.axes(rect_histy)\n",
    "\n",
    "# no labels\n",
    "axHistx.xaxis.set_major_formatter(nullfmt)\n",
    "axHisty.yaxis.set_major_formatter(nullfmt)\n",
    "\n",
    "# the scatter plot:\n",
    "axScatter.scatter(x, y)\n",
    "\n",
    "# now determine nice limits by hand:\n",
    "binwidth = 0.0025\n",
    "xymax = np.max([np.max(np.fabs(x)), np.max(np.fabs(y))])\n",
    "lim = (int(xymax/binwidth) + 1) * binwidth\n",
    "\n",
    "axScatter.set_xlim((-lim, lim))\n",
    "axScatter.set_ylim((-lim, lim))\n",
    "\n",
    "bins = np.arange(-lim, lim + binwidth, binwidth)\n",
    "histx = axHistx.hist(x, bins=bins, stacked=True)\n",
    "histy = axHisty.hist(y, bins=bins, orientation='horizontal')\n",
    "\n",
    "axHistx.set_xlim(axScatter.get_xlim())\n",
    "axHisty.set_ylim(axScatter.get_ylim())\n",
    "\n",
    "axScatter.set_xlabel('dispersion direction [mm]')\n",
    "axScatter.set_ylabel('crossdispersion direction [mm]')"
   ]
  },
  {
   "cell_type": "code",
   "execution_count": 12,
   "metadata": {
    "collapsed": false
   },
   "outputs": [
    {
     "data": {
      "text/plain": [
       "1"
      ]
     },
     "execution_count": 12,
     "metadata": {},
     "output_type": "execute_result"
    }
   ],
   "source": [
    "len(x)"
   ]
  },
  {
   "cell_type": "code",
   "execution_count": 13,
   "metadata": {
    "collapsed": true
   },
   "outputs": [],
   "source": [
    "def fwhm(hist):\n",
    "    '''Simple estimate of FWHM from histogram\n",
    "    \n",
    "    This just takes the value of the largest bin to be the max value and then\n",
    "    finds the number of bins that are  > half that value.\n",
    "    Multiplying the number with the bin width (assuming equal bins)\n",
    "    gives an estiamte of the FWHM.\n",
    "    '''\n",
    "    maxval = np.max(hist[0])\n",
    "    halfmax = maxval / 2\n",
    "    ind = hist[0] > halfmax\n",
    "    return ind.sum() * np.mean(np.diff(hist[1]))"
   ]
  },
  {
   "cell_type": "code",
   "execution_count": 14,
   "metadata": {
    "collapsed": false
   },
   "outputs": [
    {
     "name": "stdout",
     "output_type": "stream",
     "text": [
      "Estimate for FWHM in x and y [in mm]: 0.0475 0.0475\n",
      "0.5 arcsec correspond to 0.0218166156499 mm.\n"
     ]
    }
   ],
   "source": [
    "print('Estimate for FWHM in x and y [in mm]:', fwhm(histx), fwhm(histy))\n",
    "print('0.5 arcsec correspond to {} mm.'.format(np.deg2rad(0.5/3600.) * 9000.))"
   ]
  },
  {
   "cell_type": "code",
   "execution_count": 15,
   "metadata": {
    "collapsed": false
   },
   "outputs": [],
   "source": [
    "pgroups = photons.group_by('order')"
   ]
  },
  {
   "cell_type": "code",
   "execution_count": 16,
   "metadata": {
    "collapsed": false
   },
   "outputs": [
    {
     "data": {
      "text/plain": [
       "<TableGroups indices=[    0    14    31  1011  6761 36481 53536 56943 57144 57731 58827 59899\n",
       " 60306 61479]>"
      ]
     },
     "execution_count": 16,
     "metadata": {},
     "output_type": "execute_result"
    }
   ],
   "source": [
    "pgroups.groups"
   ]
  },
  {
   "cell_type": "code",
   "execution_count": 17,
   "metadata": {
    "collapsed": false
   },
   "outputs": [
    {
     "data": {
      "text/plain": [
       "61479"
      ]
     },
     "execution_count": 17,
     "metadata": {},
     "output_type": "execute_result"
    }
   ],
   "source": [
    "len(photons)"
   ]
  },
  {
   "cell_type": "code",
   "execution_count": null,
   "metadata": {
    "collapsed": true
   },
   "outputs": [],
   "source": []
  }
 ],
 "metadata": {
  "kernelspec": {
   "display_name": "Python [default]",
   "language": "python",
   "name": "python2"
  },
  "language_info": {
   "codemirror_mode": {
    "name": "ipython",
    "version": 2
   },
   "file_extension": ".py",
   "mimetype": "text/x-python",
   "name": "python",
   "nbconvert_exporter": "python",
   "pygments_lexer": "ipython2",
   "version": "2.7.12"
  }
 },
 "nbformat": 4,
 "nbformat_minor": 2
}
