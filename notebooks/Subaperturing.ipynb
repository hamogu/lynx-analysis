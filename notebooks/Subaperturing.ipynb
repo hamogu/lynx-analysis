{
 "cells": [
  {
   "cell_type": "markdown",
   "metadata": {},
   "source": [
    "# Spectral resolution and subaperturing\n",
    "\n",
    "In these notes, I'm looking at the effect that subaperturing has on the spectral resolving power for Lynx. Since most parts of the Lynx design are still in the air, there are a lot of assumptions in here, some of which might have a major influence on the result. This is a document in progress that must evolve with the evolving mission design.\n",
    "\n",
    "Please contact me (Moritz) if you want to use any of the figures or plots below for presentations or further reseach and I will prepare the high-resolution figures for you or provide you with the datasets behind the plot in numeric form. Please do not copy and paste the figures here; they are intentionally made at a lower resolution to optimize the display on a webpage."
   ]
  },
  {
   "cell_type": "code",
   "execution_count": null,
   "metadata": {},
   "outputs": [],
   "source": [
    "from IPython.display import HTML\n",
    "\n",
    "HTML('''<script>\n",
    "code_show=true; \n",
    "function code_toggle() {\n",
    " if (code_show){\n",
    " $('div.input').hide();\n",
    " } else {\n",
    " $('div.input').show();\n",
    " }\n",
    " code_show = !code_show\n",
    "} \n",
    "$( document ).ready(code_toggle);\n",
    "</script>\n",
    "<form action=\"javascript:code_toggle()\"><input type=\"submit\" value=\"Click here to toggle on/off the raw code.\"></form>''')"
   ]
  },
  {
   "cell_type": "code",
   "execution_count": null,
   "metadata": {},
   "outputs": [],
   "source": [
    "from __future__ import print_function, division\n",
    "import sys\n",
    "import numpy as np\n",
    "from astropy.coordinates import SkyCoord\n",
    "from astropy.table import Table, join\n",
    "import astropy.units as u\n",
    "import marxs\n",
    "from marxs import visualization\n",
    "\n",
    "from marxs.source import PointSource, FixedPointing, JitterPointing\n",
    "from marxs.analysis import resolvingpower_from_photonlist\n",
    "\n",
    "%matplotlib inline\n",
    "import matplotlib.pyplot as plt"
   ]
  },
  {
   "cell_type": "code",
   "execution_count": null,
   "metadata": {},
   "outputs": [],
   "source": [
    "from marxslynx import lynx\n",
    "from marxslynx.bendgratings import bend_gratings\n",
    "from marxslynx.ralfgrating import facet_table, order_selector_Si, order_selector_SiPt"
   ]
  },
  {
   "cell_type": "code",
   "execution_count": null,
   "metadata": {},
   "outputs": [],
   "source": [
    "import marxs.version\n",
    "print('MARXS version {} (commit hash: {} from {})'.format(marxs.version.version, marxs.version.githash, marxs.version.timestamp))"
   ]
  },
  {
   "cell_type": "code",
   "execution_count": null,
   "metadata": {},
   "outputs": [],
   "source": [
    "import marxs.version\n",
    "import marxslynx.version\n",
    "print('MARXS version {} (commit hash: {} from {})'.format(marxs.version.version, marxs.version.githash, marxs.version.timestamp))\n",
    "print('Lynx version {} (commit hash: {} from {})'.format(marxslynx.version.version, marxslynx.version.githash, marxslynx.version.timestamp))"
   ]
  },
  {
   "cell_type": "code",
   "execution_count": null,
   "metadata": {},
   "outputs": [],
   "source": [
    "def run_monoenergetic_simulation(instrument, energy, n_photons=2e4):\n",
    "    mysource = PointSource(coords=SkyCoord(0., 0., unit='deg'),\n",
    "                           energy=energy,\n",
    "                           flux=1.)\n",
    "    fixedpointing = FixedPointing(coords=SkyCoord(0., 0., unit='deg'))\n",
    "    photons = mysource.generate_photons(n_photons)\n",
    "    photons = fixedpointing(photons)\n",
    "    photons = instrument(photons)\n",
    "    return photons[np.isfinite(photons['order'])]\n",
    "    "
   ]
  },
  {
   "cell_type": "markdown",
   "metadata": {},
   "source": [
    "## Zeroth order image\n",
    "\n",
    "First, we look at a zeroth order image. That allows us to check that we got the mirror right. This simulation uses a simplified mirror model. It does not simulate individual mirror shells, but instead is treats the mirror as a continuum. Every photon hitting the mirror plane is redicted to the focal point assuming an \"ideal\" mirror. Then, additional scatter is added both in the plane of reflection and out of the plane of reflection. Typically, for an individual shell, the scatter is larger in the plane of reflection due to figure errors and the scattering by particulates.\n",
    "\n",
    "In this case, we want to simulate a mirror where the PSF is domianted by the mis-pointing of individual mirror shells (which is the case where sub-aperturing is the least useful). Mis-pointing of the shells happens in both x and y direction, which, looking at a single photon, can be simulated by assuming a perfect mirror and scatter of the same magnitude in the plane of the scattering and out of the plane of the scattering. \n",
    "Note that for simulations of gratings it would be cheating to apply a blur in the focal plane to account for the PSF in the way that many simpler simulations programs do it, because we need to know the direction of the photon already when it hits the gratings, and not just in the focal plane."
   ]
  },
  {
   "cell_type": "code",
   "execution_count": null,
   "metadata": {},
   "outputs": [],
   "source": [
    "o7triplet = (21.8 * u.Angstrom).to(u.keV, equivalencies=u.spectral())\n",
    "single_en = 0.6"
   ]
  },
  {
   "cell_type": "code",
   "execution_count": null,
   "metadata": {},
   "outputs": [],
   "source": [
    "perfectlynx = lynx.PerfectLynx(conf=lynx.conf)\n",
    "facettab = facet_table(perfectlynx.elements[2])\n",
    "facetpos = np.asanyarray(perfectlynx.elements[2].elem_pos)\n",
    "\n",
    "photons = run_monoenergetic_simulation(perfectlynx, single_en)\n",
    "photons = join(photons, facettab)"
   ]
  },
  {
   "cell_type": "code",
   "execution_count": null,
   "metadata": {},
   "outputs": [],
   "source": [
    "import copy\n",
    "conf_scat = copy.copy(lynx.conf)\n",
    "conf_scat['inplanescatter'] = 3.5e-6\n",
    "conf_scat['perpplanescatter'] = .7e-6\n",
    "l_scat = lynx.PerfectLynx(conf=conf_scat)\n",
    "p_scat = run_monoenergetic_simulation(l_scat, single_en)\n",
    "\n",
    "p_scat = join(p_scat, facettab)"
   ]
  },
  {
   "cell_type": "code",
   "execution_count": null,
   "metadata": {},
   "outputs": [],
   "source": [
    "conf_small = copy.copy(lynx.conf)\n",
    "conf_small['grating_size'] = 20\n",
    "l_small = lynx.PerfectLynx(conf=conf_small)\n",
    "facettab_small = facet_table(l_small.elements[2])\n",
    "facetpos_small = np.asanyarray(l_small.elements[2].elem_pos)\n",
    "\n",
    "p_small = run_monoenergetic_simulation(l_small, single_en)\n",
    "p_small = join(p_small, facettab_small)"
   ]
  },
  {
   "cell_type": "code",
   "execution_count": null,
   "metadata": {},
   "outputs": [],
   "source": [
    "conf_scat_small = copy.copy(lynx.conf)\n",
    "conf_scat_small['grating_size'] = 20\n",
    "conf_scat_small['inplanescatter'] = 3.5e-6\n",
    "conf_scat_small['perpplanescatter'] = .7e-6\n",
    "l_scat_small = lynx.PerfectLynx(conf=conf_scat_small)\n",
    "p_scat_small = run_monoenergetic_simulation(l_scat_small, single_en)\n",
    "p_scat_small = join(p_scat_small, facettab_small)"
   ]
  },
  {
   "cell_type": "code",
   "execution_count": null,
   "metadata": {},
   "outputs": [],
   "source": [
    "len(facettab), len(facettab_small)"
   ]
  },
  {
   "cell_type": "code",
   "execution_count": null,
   "metadata": {},
   "outputs": [],
   "source": [
    "perfectlynx_b_scat = lynx.PerfectLynx(conf=conf_scat)\n",
    "bend_gratings(conf_scat, perfectlynx_b_scat.elements[2], r=9500)\n",
    "\n",
    "pb_scat = run_monoenergetic_simulation(perfectlynx_b_scat, single_en)\n",
    "pb_scat = join(pb_scat, facettab)"
   ]
  },
  {
   "cell_type": "code",
   "execution_count": null,
   "metadata": {},
   "outputs": [],
   "source": [
    "perfectlynx_bn_scat = lynx.PerfectLynx(conf=conf_scat)\n",
    "bend_gratings(conf_scat, perfectlynx_bn_scat.elements[2])\n",
    "\n",
    "pbn_scat = run_monoenergetic_simulation(perfectlynx_bn_scat, single_en)\n",
    "pbn_scat = join(pbn_scat, facettab)"
   ]
  },
  {
   "cell_type": "code",
   "execution_count": null,
   "metadata": {},
   "outputs": [],
   "source": [
    "out = plt.hist(np.rad2deg(p_scat['blaze']), bins=50, histtype='step')\n",
    "out = plt.hist(np.rad2deg(pb_scat['blaze']), bins=50, histtype='step')"
   ]
  },
  {
   "cell_type": "code",
   "execution_count": null,
   "metadata": {},
   "outputs": [],
   "source": [
    "from matplotlib.ticker import NullFormatter\n",
    "\n",
    "ind = (photons['order'] == 0) & (np.abs(photons['proj_x'] < 10))\n",
    "pgroups = photons[ind].group_by('order')\n",
    "x = [p['proj_x'] for p in pgroups.groups]\n",
    "y = [p['proj_y'] for p in pgroups.groups]\n",
    "\n",
    "nullfmt = NullFormatter()         # no labels\n",
    "\n",
    "# definitions for the axes\n",
    "left, width = 0.1, 0.65\n",
    "bottom, height = 0.1, 0.65\n",
    "bottom_h = left_h = left + width + 0.02\n",
    "\n",
    "rect_scatter = [left, bottom, width, height]\n",
    "rect_histx = [left, bottom_h, width, 0.2]\n",
    "rect_histy = [left_h, bottom, 0.2, height]\n",
    "\n",
    "# start with a rectangular Figure\n",
    "plt.figure(1, figsize=(5, 5))\n",
    "\n",
    "axScatter = plt.axes(rect_scatter)\n",
    "axHistx = plt.axes(rect_histx)\n",
    "axHisty = plt.axes(rect_histy)\n",
    "\n",
    "# no labels\n",
    "axHistx.xaxis.set_major_formatter(nullfmt)\n",
    "axHisty.yaxis.set_major_formatter(nullfmt)\n",
    "\n",
    "# the scatter plot:\n",
    "axScatter.scatter(x, y)\n",
    "\n",
    "# now determine nice limits by hand:\n",
    "binwidth = 0.0025\n",
    "xymax = np.max([np.max(np.fabs(x)), np.max(np.fabs(y))])\n",
    "lim = (int(xymax/binwidth) + 1) * binwidth\n",
    "\n",
    "axScatter.set_xlim((-lim, lim))\n",
    "axScatter.set_ylim((-lim, lim))\n",
    "\n",
    "bins = np.arange(-lim, lim + binwidth, binwidth)\n",
    "histx = axHistx.hist(x, bins=bins, stacked=True)\n",
    "histy = axHisty.hist(y, bins=bins, orientation='horizontal')\n",
    "\n",
    "axHistx.set_xlim(axScatter.get_xlim())\n",
    "axHisty.set_ylim(axScatter.get_ylim())\n",
    "\n",
    "axScatter.set_xlabel('dispersion direction [mm]')\n",
    "axScatter.set_ylabel('crossdispersion direction [mm]')"
   ]
  },
  {
   "cell_type": "code",
   "execution_count": null,
   "metadata": {},
   "outputs": [],
   "source": [
    "def hpd(x, y):\n",
    "    '''Simple estimate for the half-power-diameter\n",
    "    '''\n",
    "    r = np.sqrt((x - x.mean())**2 + (y - y.mean())**2)\n",
    "    return np.median(r)"
   ]
  },
  {
   "cell_type": "code",
   "execution_count": null,
   "metadata": {},
   "outputs": [],
   "source": [
    "p0 = p_scat[p_scat['order'] == 0]\n",
    "print('Estimate for HPD [in mm]:', hpd(p0['proj_x'], p0['proj_y']))\n",
    "print('0.5 arcsec correspond to {} mm.'.format(np.deg2rad(0.5/3600.) * 10000.))"
   ]
  },
  {
   "cell_type": "markdown",
   "metadata": {},
   "source": [
    "These numbers indicates that we set up our mirror correctly such that the HPD is close to 0.5 arcsec. Looking at the histrogram in the plot, the shape of the PSF is also roughly Gaussian, so that thsese simulations can be compared with other efforts for the Lynx development, where similar PSFs are used."
   ]
  },
  {
   "cell_type": "markdown",
   "metadata": {},
   "source": [
    "## A simulation at 0.5 keV (= 2.4 nm = 24 Angstrom)\n",
    "\n",
    "First, we look at a simulation at one specific energy and see how the diffracted orders look on the detector and what we can learn from sub-aperturing. Later, we will repeat this analysis for a grid of photon energies, but it is useful to look in a little more detail for a single energy first to understand what is going on.\n",
    "\n",
    "The convention that MARXS, our ray-trace code, uses for CAT gratings is to label the diffraction orders with negative numbers, so this is what we use in the following figures."
   ]
  },
  {
   "cell_type": "code",
   "execution_count": null,
   "metadata": {},
   "outputs": [],
   "source": [
    "orders = order_selector_Si.orders\n",
    "\n",
    "labels = ['fiducial', 'small', 'scatt', 'scat_small', 'bend_scat', 'bend_scat_ind']\n",
    "\n",
    "fig = plt.figure(figsize=(10, 10))\n",
    "ax = fig.add_subplot(111)\n",
    "for i, p in enumerate([photons, p_small, p_scat, p_scat_small, pb_scat, pbn_scat]):\n",
    "    n_p = np.array([p[p['order'] == o]['probability'].sum() for o in orders])\n",
    "    aeff = perfectlynx.elements[0].area.to(u.cm**2) / 1e5 * n_p\n",
    "    ax.plot(orders, aeff, label=labels[i])\n",
    "    \n",
    "ax.legend()\n",
    "ax.set_xlim(-9,4)"
   ]
  },
  {
   "cell_type": "code",
   "execution_count": null,
   "metadata": {},
   "outputs": [],
   "source": [
    "photons = photons[photons['probability'] > 0]\n",
    "plt.scatter(photons['detcircpix_x'], photons['detcircpix_y'], c=photons['order'])\n",
    "plt.colorbar(label='Diffraction order')\n",
    "plt.xlabel('Dispersion direction in focal plane [mm]')\n",
    "plt.ylabel('Cross-dispersion direction [mm]')"
   ]
  },
  {
   "cell_type": "markdown",
   "metadata": {},
   "source": [
    "Figure above: Position of photons projected into the focal plane. Dispersion goes from left to right. Note that the scale of the x and y axis is *very* different!\n",
    "\n",
    "We simuluate a Rowland spectrometer. As such, the CCD detectors are **not** in the focal plane, instead they follow the curved surface of the Rowland torus. This optimized for the spectral focus, i.e. it makes the orders narrow in dispersion direction, but at the cost of a wider distribution in the cross-dispersion direction. Only for the zeroth order (red, leftmost dot) do the imaging focus and the spectral focus agree and thus this order is circular as shown in the plot above. For CAT gratings, it is useful to use a *tilted* Rowland torus, which intersects the focal plane a second time, thus there is a second place (around 700 mm for the parameters chosen here) where the dispersed order is small in dispersion and cross-dispersion direction. This leads the fish-shaped distribution seen in the plot above. We now look at one of those orders in more detail."
   ]
  },
  {
   "cell_type": "code",
   "execution_count": null,
   "metadata": {},
   "outputs": [],
   "source": [
    "cmap = plt.get_cmap('hsv')\n",
    "fig = plt.figure(figsize=(15, 6))\n",
    "ax1 = fig.add_subplot(121, aspect='equal')\n",
    "ax1.scatter(facetpos_small[:, 1, 3], facetpos_small[:, 2, 3], c=np.rad2deg(facettab_small['facet_ang']),\n",
    "            s=5, marker='s', cmap=cmap)\n",
    "ax2 = fig.add_subplot(122)\n",
    "ind = (p_small['order'] == -7) & (p_small['proj_x'] > 0)\n",
    "scat = ax2.scatter(p_small['proj_x'][ind], p_small['proj_y'][ind], \n",
    "            c=np.rad2deg(p_small['facet_ang'])[ind], cmap=cmap)\n",
    "#plt.xlim([-0.1, 0.1])\n",
    "ax2.set_ylim([-1, 1])\n",
    "plt.colorbar(scat, ax=ax2, label='Angle of grating facet')\n",
    "ax2.set_xlabel('Dispersion direction in focal plane [mm]')\n",
    "ax2.set_ylabel('Cross-dispersion direction [mm]')\n",
    "ax1.set_xlabel('Distance from optical axis [mm]')\n",
    "ax1.set_ylabel('Distance from optical axis [mm]')"
   ]
  },
  {
   "cell_type": "code",
   "execution_count": null,
   "metadata": {},
   "outputs": [],
   "source": [
    "fig = plt.figure(figsize=(15, 6))\n",
    "ax1 = fig.add_subplot(121, aspect='equal')\n",
    "ax1.scatter(facetpos[:, 1, 3], facetpos[:, 2, 3], c=np.rad2deg(facettab['facet_ang']),\n",
    "            s=10, marker='s', cmap=cmap)\n",
    "ax2 = fig.add_subplot(122)\n",
    "ind = (photons['order'] == -7) & (photons['proj_x'] > 0)\n",
    "scat = ax2.scatter(photons['proj_x'][ind], photons['proj_y'][ind], \n",
    "            c=np.rad2deg(photons['facet_ang'])[ind], cmap=cmap)\n",
    "#plt.xlim([-0.1, 0.1])\n",
    "#plt.ylim([-0.1, 0.1])\n",
    "plt.colorbar(scat, ax=ax2, label='Angle of grating facet')\n",
    "ax2.set_xlabel('Dispersion direction in focal plane [mm]')\n",
    "ax2.set_ylabel('Cross-dispersion direction [mm]')\n",
    "ax1.set_xlabel('Distance from optical axis [mm]')\n",
    "ax1.set_ylabel('Distance from optical axis [mm]')"
   ]
  },
  {
   "cell_type": "code",
   "execution_count": null,
   "metadata": {},
   "outputs": [],
   "source": [
    "labels = ['fiducial', 'small', 'scatt', 'scat_small']\n",
    "\n",
    "fig = plt.figure(figsize=(10, 10))\n",
    "for i, p in enumerate([photons, p_small, p_scat, p_scat_small]):\n",
    "    ax = fig.add_subplot(2, 2, i + 1)\n",
    "    ind = (p['order'] == -6) \n",
    "    scat = ax.scatter(p['proj_x'][ind], p['proj_y'][ind], \n",
    "            c=np.rad2deg(p['facet_ang'])[ind])\n",
    "    plt.colorbar(scat, ax=ax2, label='Angle of grating facet')\n",
    "    ax.set_xlabel('Dispersion direction in focal plane [mm]')    \n",
    "    ax.set_title(labels[i])\n"
   ]
  },
  {
   "cell_type": "markdown",
   "metadata": {},
   "source": [
    "The left plot shows the arrangement of the grating facets looking from end of the mirrors towards the focal plane. The dispersion direction is from left to right and cross-dispersion from top to bottom. There is no special meaning in that gap at the middle right. It's just where I started distributing the grating facets. The gap is just too small to place another set of facets so it's left empty. The distribution of facets can be improved to reduce the uncovered area in between, but that this stage it is not useful to spend to much detailed work on that. Note that the coloring schme is different than in the 3D view on the interactive 3d website. Facets are colored according to the angle that the facet center has towards the positive dispersion direction.\n",
    "\n",
    "The plot on the right shows a spefic grating order on the detector (order 7). The detector is cylindrical following the Rowland circle. Intersection positions with this detecor are the projected on the focal plane so that I can properly display them in a two-dimensional plot. Individual photons are colored according to the grating facet that they passed through. There are several things we can learn from this plot: First, note that the x and y axis are not to scale, this really is much longer in cross-dispersion direction (top to bottom) and narrow in the dispersion direction (left to right). Second, the aboslute position along the dispersion direction is 75 cm from the focal point, so the dispersion angle is about 5 deg - significantly more than in Chandra or XMM-Newton. Thus, abberations that do not need to be considered for Chandra or XMM-Newton can be important here. \n",
    "\n",
    "So, we can now look at the distribution of colors and we see immediately that the distribution is not homogeneous. Photons that went through the cyan, green, and yellow colored gratings are distributed a narrower than the blue and red points. Thus, sub-aperturing *can* defintely increase the spectral resolving power. However, the pattern of the sub-aperturing is completely different than the \"normal\" pattern. Typically, sub-aperturing is done using only an area along the cross-dispersion direction (here the orange and light blue gratings). In contrast, here, we achieve the best spectral resolving power by using only gratings that are located along the forward dispersion direction.\n",
    "\n",
    "This might be a surprising result at first glance, but thinking back to the assumptions that went into this simulation, it might seem a little more sensible. We set up the PSF such that there is no difference between in-plane and out-of-plane scatter and thus there is nothing special about the cross-dispersion direction. Instead the shape of the PSF is dominated by other things. Now, recall that this order is located about 75 cm from the optical axis; at the same time the facets go from -60 cm (red and blue) to +60 cm (light green). There is a consideralbe path length difference between those photons. The light green facets are located essentially \"directly above\" the order, while the red/blue ones are 1.5 m to the side; so it should not come a a complete surprise that the abberations differ between those two groups.\n",
    "\n",
    "In the following, I show how much better the spectral resolving power can be for different opening angles of the subaperture. That angle measures the angle between the center of a facet and the positive horizonal axis (the gap in the left iamge above). *There is no second mirrored sector*. For example, a subaperture angle of 30 degrees includes the cyan and light green gratings, 90 deg included lightblue, cyan, green, yellow, and orange, and only the full aperture (suaperture angle 180 deg) includes all gratings, even the dark red and dark blue ones."
   ]
  },
  {
   "cell_type": "code",
   "execution_count": null,
   "metadata": {},
   "outputs": [],
   "source": [
    "subaperangle = np.linspace(0, np.pi, 7)[1:]\n",
    "\n",
    "def res_power_angle(photons, subaperangle, ang_0=0):\n",
    "    resolvingpower = np.zeros((len(subaperangle), len(orders)))\n",
    "    aeff_per_order = np.zeros_like(resolvingpower)\n",
    "    for i, ang in enumerate(subaperangle):\n",
    "        ind = np.abs(np.abs(photons['facet_ang']) - ang_0) < ang\n",
    "        res, width, pos = resolvingpower_from_photonlist(photons[ind], orders)\n",
    "        resolvingpower[i, :] = res\n",
    "        aeff_per_order[i, :] = [photons['probability'][ind & (photons['order'] == o)].sum() for o in orders]\n",
    "    aeff_per_order *= perfectlynx.elements[0].area.to(u.cm**2) / photons.meta['EXPOSURE'][0]\n",
    "    return resolvingpower, aeff_per_order"
   ]
  },
  {
   "cell_type": "code",
   "execution_count": null,
   "metadata": {},
   "outputs": [],
   "source": [
    "respow, aeff = res_power_angle(photons, subaperangle)\n",
    "respow_small, aeff_small = res_power_angle(p_small, subaperangle)\n",
    "respow_scat, aeff_scat = res_power_angle(p_scat, subaperangle)\n",
    "respow_scat_small, aeff_scat_small = res_power_angle(p_scat_small, subaperangle)\n",
    "\n",
    "respow_bscat, aeff_bscat = res_power_angle(pb_scat, subaperangle)\n",
    "respow_bnscat, aeff_bnscat = res_power_angle(pbn_scat, subaperangle)"
   ]
  },
  {
   "cell_type": "code",
   "execution_count": null,
   "metadata": {},
   "outputs": [],
   "source": [
    "tsubaperangle = np.linspace(0, np.pi/2, 7)[1:]\n",
    "trespow, taeff = res_power_angle(photons, tsubaperangle, np.pi/2)\n",
    "trespow_small, taeff_small = res_power_angle(p_small, tsubaperangle, np.pi/2)\n",
    "trespow_scat, taeff_scat = res_power_angle(p_scat, tsubaperangle, np.pi/2)\n",
    "trespow_scat_small, taeff_scat_small = res_power_angle(p_scat_small, tsubaperangle, np.pi/2)\n",
    "\n",
    "trespow_bscat, taeff_bscat = res_power_angle(pb_scat, subaperangle, np.pi/2)\n",
    "trespow_bnscat, taeff_bnscat = res_power_angle(pbn_scat, subaperangle, np.pi/2)"
   ]
  },
  {
   "cell_type": "code",
   "execution_count": null,
   "metadata": {},
   "outputs": [],
   "source": [
    "fig = plt.figure() \n",
    "for i, ang in enumerate(subaperangle):\n",
    "    plt.plot(orders, \n",
    "             respow[i, :], \n",
    "             label='{:3.0f}'.format(np.rad2deg(ang)))\n",
    "plt.legend(title='Subaperture\\nangle [deg]', loc='upper left')\n",
    "plt.ylabel('Resolving power')\n",
    "plt.xlabel('Grating order')\n",
    "plt.gca().invert_xaxis()"
   ]
  },
  {
   "cell_type": "code",
   "execution_count": null,
   "metadata": {},
   "outputs": [],
   "source": [
    "fig = plt.figure() \n",
    "for i, ang in enumerate(tsubaperangle):\n",
    "    plt.plot(orders, \n",
    "             trespow_bscat[i, :], \n",
    "             label='{:3.0f}'.format(np.rad2deg(ang)))\n",
    "plt.legend(title='Subaperture\\nangle [deg]', loc='upper left')\n",
    "plt.ylabel('Resolving power')\n",
    "plt.xlabel('Grating order')\n",
    "plt.gca().invert_xaxis()"
   ]
  },
  {
   "cell_type": "code",
   "execution_count": null,
   "metadata": {},
   "outputs": [],
   "source": [
    "respow.shape"
   ]
  },
  {
   "cell_type": "code",
   "execution_count": null,
   "metadata": {},
   "outputs": [],
   "source": [
    "i = (orders == -5) | (orders == -6)\n",
    "plt.plot(respow[:, i].mean(axis=1), aeff[:, i].sum(axis=1), 'r', label='fiducial')\n",
    "plt.plot(respow_scat[:, i].mean(axis=1), aeff_scat[:, i].sum(axis=1), 'b', label='scat')\n",
    "plt.plot(respow_small[:, i].mean(axis=1), aeff_small[:, i].sum(axis=1), 'k', label='small')\n",
    "plt.plot(respow_scat_small[:, i].mean(axis=1), aeff_scat_small[:, i].sum(axis=1), 'y', label='scat_small')\n",
    "plt.plot(respow_bscat[:, i].mean(axis=1), aeff_bscat[:, i].sum(axis=1), 'm', label='bend_scat')\n",
    "plt.plot(respow_bnscat[:, i].mean(axis=1), aeff_bnscat[:, i].sum(axis=1), 'c', label='bendn_scat')\n",
    "plt.legend()\n",
    "plt.plot(trespow[:, i].mean(axis=1), taeff[:, i].sum(axis=1), 'r:', label='fiducial')\n",
    "plt.plot(trespow_scat[:, i].mean(axis=1), taeff_scat[:, i].sum(axis=1), 'b:', label='scat')\n",
    "plt.plot(trespow_small[:, i].mean(axis=1), taeff_small[:, i].sum(axis=1), 'k:', label='small')\n",
    "plt.plot(trespow_scat_small[:, i].mean(axis=1), taeff_scat_small[:, i].sum(axis=1), 'y:', label='scat_small')\n",
    "plt.plot(trespow_bscat[:, i].mean(axis=1), taeff_bscat[:, i].sum(axis=1), 'm:', lw=5, label='bend_scat')\n",
    "plt.plot(trespow_bnscat[:, i].mean(axis=1), taeff_bnscat[:, i].sum(axis=1), 'c:', label='bendn_scat')\n",
    "\n",
    "plt.xlabel('Resolving power')\n",
    "plt.ylabel('Effective area [cm$^2$]')"
   ]
  },
  {
   "cell_type": "markdown",
   "metadata": {},
   "source": [
    "Resolving power depending on the grating order (or diffraction angle). Sub-aperturing does little for low orders located close to the optical axis but can improve the resolving power up to a factor of three for higher orders. In practice though, only some orders receive a sufficient number of photons to do spectral analysis. Thus, we can take a weighted average of the resolving power for all orders where the resolving power for each order is weighted by the number of photons it receives."
   ]
  },
  {
   "cell_type": "code",
   "execution_count": null,
   "metadata": {},
   "outputs": [],
   "source": [
    "from scipy import optimize\n",
    "\n",
    "e = perfectlynx.elements[2].elements[200]\n",
    "rowland = lynx.conf['rowland']\n",
    "\n",
    "def make_opt_func(pos, dir, rowland):\n",
    "    def f(x):\n",
    "        return rowland.quartic(pos + x * dir)\n",
    "    return f\n",
    "\n",
    "pos_on_e = np.meshgrid(np.linspace(-1, 1, 11), np.linspace(-1, 1, 11))\n"
   ]
  },
  {
   "cell_type": "code",
   "execution_count": null,
   "metadata": {},
   "outputs": [],
   "source": [
    "e = perfectlynx.elements[2].elements[2087]\n",
    "print(e.geometry['v_y'][:3])\n",
    "dist = np.zeros((11, 11))\n",
    "for i in range(11):\n",
    "    for j in range(11):\n",
    "        pos = e.geometry['center'][:3] + pos_on_e[0][i, j] * e.geometry['v_y'][:3] + pos_on_e[1][i, j] * e.geometry['v_z'][:3] \n",
    "        dist[i, j] = optimize.brentq(make_opt_func(pos, e.geometry['e_x'][:3], rowland), -100, 100)\n",
    "plt.imshow(dist)\n",
    "plt.colorbar()"
   ]
  },
  {
   "cell_type": "code",
   "execution_count": null,
   "metadata": {},
   "outputs": [],
   "source": [
    "e = perfectlynx.elements[2].elements[0]\n",
    "dist = np.zeros((11, 11))\n",
    "print(e.geometry['v_y'][:3])\n",
    "for i in range(11):\n",
    "    for j in range(11):\n",
    "        pos = e.geometry['center'][:3] + pos_on_e[0][i, j] * e.geometry['v_y'][:3] + pos_on_e[1][i, j] * e.geometry['v_z'][:3] \n",
    "        dist[i, j] = optimize.brentq(make_opt_func(pos, e.geometry['e_x'][:3], rowland), -100, 100)\n",
    "plt.imshow(dist)\n",
    "plt.colorbar()"
   ]
  },
  {
   "cell_type": "code",
   "execution_count": null,
   "metadata": {},
   "outputs": [],
   "source": [
    "e = perfectlynx.elements[2].elements[1047]\n",
    "dist = np.zeros((11, 11))\n",
    "print(e.geometry['v_y'][:3])\n",
    "for i in range(11):\n",
    "    for j in range(11):\n",
    "        pos = e.geometry['center'][:3] + pos_on_e[0][i, j] * e.geometry['v_y'][:3] + pos_on_e[1][i, j] * e.geometry['v_z'][:3] \n",
    "        dist[i, j] = optimize.brentq(make_opt_func(pos, e.geometry['e_x'][:3], rowland), -100, 100)\n",
    "plt.imshow(dist)\n",
    "plt.colorbar()"
   ]
  },
  {
   "cell_type": "code",
   "execution_count": null,
   "metadata": {},
   "outputs": [],
   "source": [
    "e = perfectlynx_b_scat.elements[2].elements[20]\n",
    "pos = e.geometry.parametric_surface(z=np.linspace(-1, 1, 11))\n",
    "direc = e.geometry.get_local_euklid_bases(np.array([[0, 0]]))\n",
    "dist = np.zeros(pos.shape[:2])\n",
    "for i in range(pos.shape[0]):\n",
    "    for j in range(pos.shape[1]):\n",
    "        dist[i, j] = optimize.brentq(make_opt_func(pos[i, j, :3], direc[2][0, :3], rowland), -5, 5)\n",
    "plt.imshow(dist)\n",
    "plt.colorbar()"
   ]
  },
  {
   "cell_type": "code",
   "execution_count": null,
   "metadata": {},
   "outputs": [],
   "source": [
    "facettab[1000: 1050]"
   ]
  },
  {
   "cell_type": "code",
   "execution_count": null,
   "metadata": {},
   "outputs": [],
   "source": [
    "resolvingpower = np.ma.masked_invalid(resolvingpower)\n",
    "np.ma.average(resolvingpower, axis=1, \n",
    "              weights=order_selector_Si.proba\n",
    "            abilities([0.5], [0], [lynx.conf['blazeang']])[1].flatten())"
   ]
  },
  {
   "cell_type": "markdown",
   "metadata": {},
   "source": [
    "## Simulations for different energies\n",
    "\n",
    "Now, I run simulations with the same set-up as above for different input energies. The goal is not to produce a fine grid, but rather to set a few goalposts to see how the effect of sub-aperturing changes with energy."
   ]
  },
  {
   "cell_type": "code",
   "execution_count": null,
   "metadata": {},
   "outputs": [],
   "source": [
    "subaperangle = np.linspace(0, np.pi, 7)[1:]\n",
    "energy = [0.3, 0.6, 1.0, 1.4, 1.8] * u.keV"
   ]
  },
  {
   "cell_type": "code",
   "execution_count": null,
   "metadata": {},
   "outputs": [],
   "source": [
    "energy.to(u.nm, equivalencies=u.spectral())"
   ]
  },
  {
   "cell_type": "code",
   "execution_count": null,
   "metadata": {},
   "outputs": [],
   "source": [
    "phot_en = []\n",
    "\n",
    "for i, e in enumerate(energy):\n",
    "    phot = run_monoenergetic_simulation(perfectlynx, e.value)\n",
    "    phot = join(phot, facettab)\n",
    "    phot_en.append(phot)\n"
   ]
  },
  {
   "cell_type": "code",
   "execution_count": null,
   "metadata": {},
   "outputs": [],
   "source": [
    "orders[3:13]"
   ]
  },
  {
   "cell_type": "code",
   "execution_count": null,
   "metadata": {
    "scrolled": false
   },
   "outputs": [],
   "source": [
    "from matplotlib.ticker import MaxNLocator\n",
    "\n",
    "fig = plt.figure(figsize=(15, 15))\n",
    "lenen = len(energy)\n",
    "indorders = np.arange(4, 14)\n",
    "\n",
    "axes = np.empty((lenen, lenord), dtype=object)\n",
    "\n",
    "for i in range(len(energy)):\n",
    "    axes[i, 0] = fig.add_subplot(lenen, lenord, lenord * i + 1)\n",
    "    axes[i, 0].set_ylabel(str(energy[i]))\n",
    "    plt.setp(axes[i, 0].get_yticklabels(), visible=False)\n",
    "    for j in range(1, len(indorders)):\n",
    "        axes[i, j] = fig.add_subplot(lenen, lenord, lenord * i + j + 1) #, sharey=axes[i, 0])\n",
    "        plt.setp(axes[i, j].get_yticklabels(), visible=False)\n",
    "        \n",
    "for i in range(len(energy)):\n",
    "    phot = phot_en[i]\n",
    "    for j, o in enumerate(indorders):      \n",
    "        order = orders[o]\n",
    "        ind = (phot['order'] == order) & (np.abs(phot['proj_y']) < 10)\n",
    "        axes[i, j].scatter(phot['proj_x'][ind], phot['proj_y'][ind], \n",
    "                           c=np.rad2deg(phot['facet_ang'])[ind],\n",
    "                           edgecolors='none', cmap=cmap)\n",
    "        \n",
    "\n",
    "for j, o in enumerate(indorders):\n",
    "    axes[0, j].set_title('order {}'.format(orders[o]))\n",
    "    \n",
    "#axes[-1, 5].set_xlabel('position on dispersion direction [mm]. Note that the scale siffers for every plot.')\n",
    "    \n",
    "fig.subplots_adjust(wspace=0)"
   ]
  },
  {
   "cell_type": "markdown",
   "metadata": {},
   "source": [
    "The plot above shows the PSF for different grating orders and energies. The energy for each row is listed on the left, and then the PSF is shown for order 0, -1, -2 ,... from left to right. THe x-axis in eahc panel has a differnet scaling and shows the position in dispersion direction (in mm) measured from the optical axis. Dots are colored according to the angle of the facet that the photon went through using the same color scale as above. For each order, the y axis is scaled differently. As shown in the fish-shaped plot above, the width in the y direction ranges from 0.02 mm for order 0 to a a few mm for higher orders. Using a the same scaling in y direction for all orders in a row would hide several of the details for the PSFs I'm going to discuss now, but keep in mind that the scaling of x and y axis is not the same. For exmaple, all zeroth orders are really circular and not elliptical.\n",
    "\n",
    "Let me know highlight a few insteresting aspects about the use of subaperturing for different energies and orders. This discussion here is qualitatively and I try to explain why things look the way they do and later I will show the actual number for the resolving power. Looking at the zeroth order for any energy, all the colors are well mixed in the plot and sub-aperturing will not do anything to change that. This is simply the result of our setup, where the scattering of the mirror is the same in every direction. At 0.3 keV most of the photons are found in order -3 and -4. In both cases, we see that sub-aperturing as discussed in detail above (selecting the angles for cyan, green, and yellow) would significantly narrow the order and thus improve the spectral resolving power. It is interesting to note that the color scheme seems flipped between order -3 and -4. In order -3 the blue-ish photons are found on the top and the reddish photons at the bottom, in order -4 that is reversed. The Rowland torus optimizes the focussing in the dispersion direction, but the focus in the cross-dispersion direction is different. In one case the detector is located below the focus in cross-dispersion direction (so in y direction photons have passed through the focus and spread out again), in the other case it is above the cross-dispersion focus. This flip happens around 62 cm, where the 7 order of 0.6 keV photons is located. Photons of higher energy (and thus lower wavelength) are not dispersed this far out and thus there is no flip in the plots for 1.0, 1.4, and 1.8 keV.\n",
    "\n",
    "In general, for higher energies where the grating orders are located closer to the optical axis, the distribution of the photons in each order depends less on the angle of the facet that they went through and thus sub-aperturing cannot do much to improve the spectral resolving power. The simulations for 1.4 and 1.8 keV photons show this. At these energies, the efficiency also peaks at much lower orders and the relevant signal is only a few cm from the optical axis (for example, order -2 for 1.8 keV is at 59 mm = 5.9 cm. \n",
    "\n",
    "At 1 keV, a significant number of photons are seen in very low orders (-1 to -3) where sub-aperturing is not relevant, but then again there are many photons in order -9. If Lynx uses sub-aperturing, then one could analyze the photons in order 9 for high-resolution work, if instead a larger number of photons is required for the science goal, but spectral resolving power is not crucial, then the observer could include the lower orders in the analysis. However, for simplicity, I will just average the resolving power for all orders when I show plots of resolving power vs sub-aperturing angle below.\n",
    "\n",
    "I want to point out one more feature: While the signal of the cyan, green, and yellow photons is generally is approximately centered on the same position as the wider distribution for the red and blue photons, this is not the case around 40-50 cm from the optical axis (order -2 for 0.3 keV; order -5 for 0.6 keV; order -9 for 1 keV).\n"
   ]
  },
  {
   "cell_type": "code",
   "execution_count": null,
   "metadata": {},
   "outputs": [],
   "source": [
    "resolvingpower_en = np.zeros((len(subaperangle), len(energy)))\n",
    "\n",
    "for i, e in enumerate(energy):\n",
    "    phot = phot_en[i]\n",
    "    resolvingpower = np.zeros((len(subaperangle), len(orders)))\n",
    "    for j, ang in enumerate(subaperangle):\n",
    "        res, width, pos = resolvingpower_from_photonlist(phot[np.abs(phot['facet_ang']) < ang],\n",
    "                                                         orders)\n",
    "        resolvingpower[j, :] = res\n",
    "        \n",
    "    resolvingpower = np.ma.masked_invalid(resolvingpower)\n",
    "    # Mask out the zeros order which always has resolving power 0 \n",
    "    resolvingpower[:, 0] = np.ma.masked\n",
    "    res = np.ma.average(resolvingpower, axis=1, \n",
    "                        weights=order_selector_Si.probabilities([e], [0], [lynx.conf['blazeang']])[1].flatten())\n",
    "    resolvingpower_en[:, i] = res\n",
    "        "
   ]
  },
  {
   "cell_type": "code",
   "execution_count": null,
   "metadata": {},
   "outputs": [],
   "source": [
    "for i, ang in enumerate(subaperangle):\n",
    "    plt.plot(energy, resolvingpower_en[i, :], label='{:3.0f}'.format(np.rad2deg(ang)))\n",
    "plt.legend(title='Subaperture\\nangle [deg]')\n",
    "plt.ylabel('Resolving power')\n",
    "plt.xlabel('Photon energy [keV]')"
   ]
  },
  {
   "cell_type": "markdown",
   "metadata": {},
   "source": [
    "This plot shows the spectral resolving power vs energy for different sub-aperturing angles. When calculating the average, different orders are weighted according to the number of photons they receive. Sub-aperturing will not increase the resolving power for high energies, but sacrificing 2/3 of the effective area in a 60 degree sub-aperture angle would increase the resolving power at low energies by almost a factor of three."
   ]
  },
  {
   "cell_type": "markdown",
   "metadata": {},
   "source": [
    "## Future work\n",
    "\n",
    "Much remains to be done to study this in more detail. There are several parameters in the simulation that I fixed to certain values based on experience with simulating other observatories, but that remain to be studied in the context of Lynx. An incomplete list is:\n",
    "\n",
    "- **mirror PSF** Does this analysis hold if the mirror shells are aligned better so that scattering in the plane of reflection is actually different from the plane of reflection? This might lead to a more conventional pattern of the sub-aperturing.\n",
    "- **Facet size** Flat grating facets of finite size always deviate from the Rowland torus. The facets here are square with 50 mm sides. How does the resolving power improve with smaller facets?\n",
    "- **Torus tilt** The torus is tilted by a little more than twice the facet blaze angle. There are two free parameters in here which Heilmann et al. 2010 call \"hinge points\". I don't think that the exact numbers are critical for the answer, but that should be checked."
   ]
  },
  {
   "cell_type": "code",
   "execution_count": null,
   "metadata": {},
   "outputs": [],
   "source": []
  }
 ],
 "metadata": {
  "hide_input": false,
  "kernelspec": {
   "display_name": "Python [default]",
   "language": "python",
   "name": "python2"
  },
  "language_info": {
   "codemirror_mode": {
    "name": "ipython",
    "version": 2
   },
   "file_extension": ".py",
   "mimetype": "text/x-python",
   "name": "python",
   "nbconvert_exporter": "python",
   "pygments_lexer": "ipython2",
   "version": "2.7.14"
  }
 },
 "nbformat": 4,
 "nbformat_minor": 2
}
