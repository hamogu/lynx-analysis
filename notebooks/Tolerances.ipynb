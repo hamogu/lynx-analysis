{
 "cells": [
  {
   "cell_type": "code",
   "execution_count": null,
   "metadata": {},
   "outputs": [],
   "source": [
    "from nbtemplate import display_header, get_path\n",
    "display_header('Tolerances.ipynb')"
   ]
  },
  {
   "cell_type": "markdown",
   "metadata": {},
   "source": [
    "## Purpose\n",
    "\n",
    "The purpose of this study is to estimate the effect of alignment errors on the key performance characteristics of the Lynx XGS with CAT gratings: Spectral resolving power and effective area. These numbers can then be used to guide the decision how to build up an error budget that specifies the allowable alignment tolerances for individual components. Naturally, there will be a trade-of: If one parameter is set looser, that will generally mean that all the other alignment tolerances have to be smaller. Science requirements put limits on the maximal allowable degradation of spectral resolving power and effective area and engineering constraints determine how well e.g. individual gratings can be aligned to the gratings array support structure or how well the support structure can be aligned to the mirrors. In general, tighter tolerances require more work, time, and money. We thus need to understand how important each possible degree of freedom is to the total performance of the system to identify those where significant design and work needs to go into the alignment. It is beyond the scope of this document to \"divy up\" the total allowable tolerance to individual alignment steps; instead, this document presents the results of ray-trace calculations for many different scenarios of misalignments and thus provides input for a broader discussion between scientists, engineers, and project managers of how to handle alignment tolerances.\n",
    "\n",
    "For some degrees of freedom in alignment only a ray-trace can really give the impact of misalignments, in other cases satisfactory estimates of the importance can be made analytically. Even in the second case, ray-trace calculations are a crucial cross-check, because they automatically take into account all possible effects, while analytical calculations often only consider the a first-order approximation.\n",
    "\n",
    "It is worth mentioning, that the Lynx science would profit from an spectral resolving power or effective area above the defined minimum values for a baseline mission. For example, narrow absorption lines can be identified better with a higher spectral resolving power, potentially reducing the required observing time or making up for a loss in effective area. If technically feasible, the project will thus aim not to \"use up\" the entire misalignment budget, but to deliver a spectral resolving power above the minimum requirements.\n",
    "\n",
    "## Approach\n",
    "\n",
    "The simulations start from a perfectly aligned version of the LYnx CATXGS. Even this does not provide infinite resolving power, because this model already includes non-ideal effects that are not due to alignment, most notably, the finite extend of the mirror PSF, some astigmatism inherent in the design, and finite sizes of CAT gratings and CCD detectors, which means that they deviate from the ideal Rowland geometry. A ray-trace is run with this design and spectral resolving power ($R$) and effective area ($A_\\mathrm{eff}$) are calculated.\n",
    "After running the baseline version, one element of the XGS is shifted in one degree of freedom, e.g. all detectors are shifted by 1 mm in the dispersion direction. The ray-trace is repeated, again $R$ and $A_\\mathrm{eff}$ are calculated, then all detectors are shifted by 2 mm and so on. After testing out the parameters space in dispersion direction, the detectors will be shifted in cross-dispersion direction. In this way, each element (for example the detector array), will be \"misaligned\" by various amounts in one of 6 degrees of freedom (shift along x, y, z, and rotation around x, y, z). In the first stage, only one degree of freedom is changed at a time, so there are no simulations where e.g. the detector is misaligned in x, y, and z simultaneously. This is purely a computational limitation. Simulations are done for about 30 steps for each degree of freedom, which requires about $6*30=180$ simulations for the detectors and similar numbers for the CAT gratings. Together, the first exploration where only one degree of freedom is varied at a time is based on several thousand simulations. If we wanted to explore the full 6-dimensional parameter space, we would need $30^6\\approx10^9$ simulations for the detectors alone.\n",
    "\n",
    "For small tolerances it is not an unreasonable assumption that the misalignments in different degrees of freedom just add up and this can be used to build the total misalignment budget. Also, just looking at the results from the first stage, will identify some degrees of freedom where the alignment is easily (e.g. just from simple machining tolerances) much better than the requirements. In a second step, we can then run ray-traces where all degrees of freedom are varied according to the misalignment budget and thus check if the assumptions going into combining the misalignments in different degrees of freedom hold or if non-linear interactions degrade $R$ and $A_\\mathrm{eff}$ more than expected. In this case, we need to revise the misalignment budget appropriately.\n",
    "\n",
    "Each simulation consists of 200000 photons. \n"
   ]
  },
  {
   "cell_type": "markdown",
   "metadata": {},
   "source": [
    "## Step 1: Changing one parameter at the time\n",
    "\n",
    "The next few sections present ray-trace results where one degree of freedom for an alignment is changed compared to the perfectly aligned CATXGS model. \n",
    "\n",
    "### How to read the simulation results\n",
    "\n",
    "In most cases, six plots are presented. The top row shows translations, the bottom row shows rotations. The first plot in each row is the translation in (or rotation around) the global telescope $x$-axis, the second plot is for the $y$-axis, and the last one for the $z$-axis. The global coordinate system we use here has the $x$ axis to coinciding with the optical axes, the $y$ axis is along the dispersion direction and the $z$ axis is in cross-dispersion direction. In general, rotations are not done around the origin of the coordinate system, but around the center of an element (e.g. the center of a CAT grating); this is described in detail for individual elements below.\n",
    "\n",
    "Each figure shows the shift or rotation angle on the $x$-axis and then plots the spectral resolving power ($R$) with a solid line, the value for $R$ can be seen on the left $y$-axis of the figure. Overplotted is the effective area with dotted lines, the value can be seen on the right $y$-axis of the plot. The exact numbers for the effective area are subject to change as we continue to develop the ray-trace simulation. However, most of the missing effects are just an overall factor and the *relative* change in $A_\\mathrm{eff}$ with increased misalignment is very robust.\n",
    "\n",
    "Ray-tracing is performed for three different representative wavelength in the XGS bandpass, shown as different colored lines on the plots.\n",
    "\n",
    "When looking at the figures below, keep the following points in mind:\n",
    "\n",
    "- $A_\\mathrm{eff}$ is given summed over all dispersed orders that fall on a detector and $R$ is the average resolving power, where the resolving power from individual orders is averaged weighted by the number of photons in that particular order. Thus, it is possible, that $R$ in the plot increases with increasing misalignment if $A_\\mathrm{eff}$ drops at the same time. This happens when an order with lower-than-average $R$ drops off the detector (thus reducing the summed $A_\\mathrm{eff}$ and increasing the average $R$). There is no scientific benefit from the apparently increased $R$ here - if one required a higher resolving power, the lower orders can be ignored in scientific analysis even if they fall on the detector.\n",
    "- Note that the zoom level for all axes (bottom, left, right) is chosen differently for each plot to highlight relevant features.\n",
    "\n",
    "In the following sections, there are two different ways to apply misalignments. In the first case, we apply a deterministic change to all elements at once, e.g. we shift the entire structure that holds the gratings by 1 mm to the left. In this frame, a global rotation would mean that the entire structure is rotated rigidly by some angle. These calculations are are done for a range of negative and positive values and are shown with a **grey** background. In the second case, we apply misalignments to each element individually. For example, we move the CAT grating facets within the (stationary) grating array structure. In this case, the actual change for each facet is drawn from a Gaussian distribution centered on 0 and with a Gaussian $\\sigma$ corresponding to e.g. 1 mm. The *average* misalignment of all facets will be close to 0 in this case, but they are all shifted relative to each other. These simulations are shown with **light pink** background.\n",
    "\n",
    "In addition, there are a few plots with **light blue** background. These look at a loss of $R$ and $A_\\mathrm{eff}$ from changing Lynx design parameters, which are not alignment tolerances but do contribute to the width of the observed line-spread function. While the default for all alignment tolerances is 0 (and their values are only different from 0 in the section explicitly discussing their contribution to loss in $R$ and $A_\\mathrm{eff}$), the scatter from the mirror (both in-plane and out-of-plane scatter) have non-zero default values."
   ]
  },
  {
   "cell_type": "code",
   "execution_count": null,
   "metadata": {},
   "outputs": [],
   "source": [
    "import os\n",
    "import copy\n",
    "import numpy as np\n",
    "import matplotlib.pyplot as plt\n",
    "from astropy.table import Table\n",
    "import astropy.units as u\n",
    "\n",
    "from marxs.design.tolerancing import plot_wiggle, load_and_plot\n",
    "\n",
    "%matplotlib inline"
   ]
  },
  {
   "cell_type": "markdown",
   "metadata": {},
   "source": [
    "### Pointing jitter\n",
    "\n",
    "Pointing jitter is not technically an alignment tolerance, but it affects the optical performance of the XGS in much the same way as misalignments between the optical components and it thus makes sense to treat it here. In this context, the \"jitter\" that matters is the uncertainty in the aspect solution, or, in other words, the difference between the true pointing direction and the tabulated pointing direction at the time of photon arrival. There are several reasons why the true pointing direction at the time of photon arrival might be unknown. They fall in two groups: First, the photon arrival time is only known within a certain time interval (the frame time). If the spacecraft moves between the beginning and the end of a frame, we cannot know where exactly it pointed when the photon arrived even if the spacecraft pointing was know perfectly all the time. To reduce this uncertainty, the spacecraft has to move slowly. Second, there are uncertainties to the instantaneous true pointing direction itself from e.g. fitting uncertainties for determining the centroids of the stars observed with the star tracker."
   ]
  },
  {
   "cell_type": "code",
   "execution_count": null,
   "metadata": {},
   "outputs": [],
   "source": [
    "t = Table.read(os.path.join(get_path('tolerances'), 'jitter.fits'))\n",
    "fig = plt.figure()\n",
    "ax = fig.add_subplot(111)\n",
    "#t.sort('Parameters')\n",
    "t_wave = t.group_by('wave')\n",
    "axt = ax.twinx()\n",
    "    \n",
    "for key, g in zip(t_wave.groups.keys, t_wave.groups):\n",
    "    ax.plot(g['jitter'], g['Rgrat'], label='{:2.0f} $\\AA$'.format(key[0]), lw=1.5)\n",
    "    axt.plot(g['jitter'], g['Aeffgrat'], ':', label='{:2.0f} $\\AA$'.format(key[0]), lw=2)\n",
    "    ax.set_ylabel('Resolving power (solid lines)')\n",
    "    axt.set_ylabel('$A_{\\mathrm{eff}}$ [cm$^2$] (dotted lines)')\n",
    "    ax.set_xlabel('jitter ($\\sigma$ in arcsec)')\n",
    "\n",
    "ax.set_ylim([0, 8000])\n",
    "axt.set_ylim([0, 8000])\n",
    "ax.set_facecolor((0.9, 0.9, 1.))\n",
    "ax.set_axisbelow(True)\n",
    "ax.grid(axis='x', c='1.0', lw=2, ls='solid')\n",
    "ax.legend(loc='lower left')\n",
    "ax.set_xlim([0, 20])\n",
    "out = ax.set_xlim(0, 5)\n",
    "\n",
    "fig.savefig(os.path.join(get_path('figures'), 'alignjitter.pdf'), bbox_inches='tight')"
   ]
  },
  {
   "cell_type": "markdown",
   "metadata": {},
   "source": [
    "Pointing jitter does not effect $A_{\\mathrm{eff}}$, because all the photons will still be detected. However, it smears out the signal, leading to a reduced $R$. All wavelength in the spectrum are effected in the same way. In order to meet Lynx requirements, the pointing jitter has to be so small that it is not the dominant effect for the broadening of the PSF, in other words, it has to be significantly smaller than the width of the mirror PSF; maybe or order 0.2 arcsec or so."
   ]
  },
  {
   "cell_type": "markdown",
   "metadata": {},
   "source": [
    "### CAT gratings"
   ]
  },
  {
   "cell_type": "code",
   "execution_count": null,
   "metadata": {},
   "outputs": [],
   "source": [
    "tab, fig = load_and_plot(os.path.join(get_path('tolerances'), 'CAT_global.fits'))\n",
    "    \n",
    "leg = fig.axes[0].legend(loc='lower center')\n",
    "    \n",
    "for i in [8, 10]:\n",
    "    fig.axes[i].set_xlim(-.2, .2)\n",
    "    \n",
    "for a in fig.axes:\n",
    "    a.set_ylim([0, 8000])\n",
    "    \n",
    "fig.savefig(os.path.join(get_path('figures'), 'aligncatglobal.pdf'), bbox_inches='tight') "
   ]
  },
  {
   "cell_type": "markdown",
   "metadata": {},
   "source": [
    "In this plot, we study the alignment of the CAT grating petal. A shift along $x$ (the optical axis) does not impact performance. Essentially, this just corresponds to a slightly larger or smaller Rowland torus. Shifts along the other axes do very little to $A_{\\mathrm{eff}}$, but reduce $R$ for shits larger than 1 or 2 mm. Given the shape of the Rowland torus, such a shift is tangential to the surface for most of the gratings and thus dues not change the position at which a diffracted photon is detected. However, since the torus is curved, the gratings further away from the central cross-dispersion line are shifted \"inside\" or \"out of\" the torus, thus broadening the detected signal. If not the entire aperture is filled with gratings, and those regions are left free, the alignment requirements will be looser.\n",
    "\n",
    "For rotations it is important to specify the origin of the rotation. In this case, we picked a point on the outside of the grating assembly which could serve as the hinge for folding the gratings in and out. If this point is moved to a different location, results will be different. A rotation around $x$ does not change the $A_{\\mathrm{eff}}$ unless it is so large the signal no longer hits the detector. Similarly, a rotation around $y$ does not effect $A_{\\mathrm{eff}}$. Rotation around $z$ (the cross-dispersion axis) slowly reduces $A_{\\mathrm{eff}}$ because photons hit the gratings with a blaze angle that is too high or too low. In this case, the center of the detector no longer matches the blaze peak and some photons remain undetected. However, for all rotations, the alignment requirements are set by $R$. Rotation around $y$ or $z$ will move some gratings \"above\" and others \"below\" the surface of the Rowland torus, dramatically widening the spot of the dispersed rays. Due to the long lever arm, gratings furthest away from the rotation axis have the largest effect. Again, this points to a design change that can make these alignment requirements less stringent: If only a fraction of the aperture is covered with gratings, the region furthest away from the hinge can be left open."
   ]
  },
  {
   "cell_type": "code",
   "execution_count": null,
   "metadata": {},
   "outputs": [],
   "source": [
    "tab, fig = load_and_plot(os.path.join(get_path('tolerances'), 'CAT_individual.fits'))\n",
    "    \n",
    "leg = fig.axes[0].legend(loc='lower center')\n",
    "\n",
    "#for i in [1, 3, 5]:\n",
    "#    fig.axes[i].set_xlim(0, 1)\n",
    "\n",
    "for a in fig.axes:\n",
    "    a.set_ylim([0, 8000])\n",
    "\n",
    "fig.savefig(os.path.join(get_path('figures'), 'aligncatindividual.pdf'), bbox_inches='tight') "
   ]
  },
  {
   "cell_type": "markdown",
   "metadata": {},
   "source": [
    "This plot show simulations where individual gratings are misaligned with respect to the grating petal. Rotation are done around the center of the grating. Contrary to the plot above, any translation will impact $R$ because for a random misalignment, some gratings will be moved up and others down and thus will widen the spot. On the other hand, rotations are much less important, because the center of the rotation is the center of an individual grating, leading to a much shorter lever arm (cm instead of m) and thus the deviation from the Rowland torus is small even for rotation of order 1 deg."
   ]
  },
  {
   "cell_type": "markdown",
   "metadata": {},
   "source": [
    "### Detectors and camera"
   ]
  },
  {
   "cell_type": "code",
   "execution_count": null,
   "metadata": {},
   "outputs": [],
   "source": [
    "tab, fig = load_and_plot(os.path.join(get_path('tolerances'), 'XGSdetector_global.fits'))\n",
    "    \n",
    "leg = fig.axes[0].legend(loc='lower center')\n",
    "    \n",
    "#for i in [1, 3, 5]:\n",
    "#    fig.axes[i].set_xlim(-.5, .5)\n",
    "    \n",
    "for a in fig.axes:\n",
    "    a.set_ylim([0, 8000])\n",
    "\n",
    "for i in [10]:\n",
    "    fig.axes[i].set_xlim(-.2, .2)\n",
    "    \n",
    "fig.savefig(os.path.join(get_path('figures'), 'aligndetglobal.pdf'), bbox_inches='tight') "
   ]
  },
  {
   "cell_type": "markdown",
   "metadata": {},
   "source": [
    "A shift along $x$ or a rotation around $z$ will bring the camera out of focus. Thus, these are the misalignments with the largest impacts. Fortunately, these are also the two degrees of freedom that can be adjusted in flight with the planned focussing mechanism.\n",
    "All other requirements as fairly loose; essentially all that is required is that the misalignment is not so large that the signal misses the detector. One thing to point is is the curve for \"shift in $y$\" (the dispersion direction). For the long wavelength in our example, a shift of 5 mm moves one of the diffracted orders into a chip gap. Thus,  $A_{\\mathrm{eff}}$ drops and recovers for an even larger shift. At the same time, $R$ drops because the $R$ shown in these plots is averaged over all detected orders. If one order with higher-than-average $R$ is missing, the $R$ shown in the plot drops. However, with our detector design some chip gaps are inevitiable. The fact that a chip gap can be observed in this simulation is by chance - there is always some wavelength that falls into a chip gap somewhere. Misalignment in $y$ does not change this fact, it merely means that the chip gap occurs for a different wavelength."
   ]
  },
  {
   "cell_type": "code",
   "execution_count": null,
   "metadata": {},
   "outputs": [],
   "source": [
    "tab, fig = load_and_plot(os.path.join(get_path('tolerances'), 'XGSdetector_individual.fits'))\n",
    "    \n",
    "leg = fig.axes[0].legend(loc='lower center')\n",
    "    \n",
    "#for i in [6, 8, 10]:\n",
    "#    fig.axes[i].set_xlim(-1, 1)\n",
    "    \n",
    "for a in fig.axes:\n",
    "    a.set_ylim([0, 8000])\n",
    "    \n",
    "fig.savefig(os.path.join(get_path('figures'), 'aligndetglobal.pdf'), bbox_inches='tight') "
   ]
  },
  {
   "cell_type": "markdown",
   "metadata": {},
   "source": [
    "Results for individual detector chips are very similar to the above."
   ]
  },
  {
   "cell_type": "markdown",
   "metadata": {},
   "source": [
    "## Step 2: Alignment budget\n",
    "\n",
    "In this step, all possible alignment tolerances are varied at the same time according to the alignment budget developed by R. Smith, where the numbers in the budget are decided as a trade-off between engineering requirements, cost, and the acceptable loss of $R$ and effective area. The alignment budget assumes that all alignment tolerances contribute independently and the simulations here are designed to check this assumption. Some misalignments might cancel out in practice, others might have a multiplicative effect. Full ray-tracing is the best way to check that and to predict final instrument performance."
   ]
  },
  {
   "cell_type": "code",
   "execution_count": null,
   "metadata": {},
   "outputs": [],
   "source": [
    "from marxslynx import lynx\n",
    "\n",
    "align = copy.deepcopy(lynx.align_requirement_in)\n",
    "lynx.reformat_errorbudget(align, globalfac=1)"
   ]
  },
  {
   "cell_type": "code",
   "execution_count": null,
   "metadata": {},
   "outputs": [],
   "source": [
    "aligndat = np.array([a[3] for a in align])\n",
    "talign = Table([[a[4] for a in align]], names=['alignment'])\n",
    "for i, col in enumerate(['trans x', 'trans y', 'trans z']):\n",
    "    talign[col] = aligndat[:, i]\n",
    "    talign[col].unit = u.mm\n",
    "    talign[col].format = '{:5.3f}'\n",
    "    \n",
    "for i, col in enumerate(['rot x', 'rot y', 'rot z']):\n",
    "    talign[col] = np.rad2deg(aligndat[:, i + 3]) * 3600\n",
    "    talign[col].unit = u.arcsec\n",
    "    talign[col].format = '{:5.0f}'\n",
    "talign"
   ]
  },
  {
   "cell_type": "code",
   "execution_count": null,
   "metadata": {},
   "outputs": [],
   "source": [
    "import sys\n",
    "talign.write(sys.stdout, format='ascii.latex')"
   ]
  },
  {
   "cell_type": "code",
   "execution_count": null,
   "metadata": {},
   "outputs": [],
   "source": [
    "tbase = Table.read(os.path.join(get_path('tolerances'), 'baseline_budget_.fits'))"
   ]
  },
  {
   "cell_type": "code",
   "execution_count": null,
   "metadata": {},
   "outputs": [],
   "source": [
    "fig = plt.figure(figsize=(8, 3))\n",
    "ax = fig.add_subplot(121)\n",
    "axa = fig.add_subplot(122)\n",
    "\n",
    "waves = list(set(tbase['wave']))\n",
    "waves.sort()\n",
    "\n",
    "for i, wave in enumerate(waves):\n",
    "    tw = tbase[tbase['wave'] == wave]\n",
    "    ax.hist(tw['Rgrat'][1:] / tw['Rgrat'][0], label='${:2.0f}\\;\\AA$'.format(wave), \n",
    "            histtype='stepfilled',\n",
    "            alpha=0.6, bins=np.arange(.75, 1.1, .02))\n",
    "    axa.hist(tw['Aeffgrat'][1:] / tw['Aeffgrat'][0], label='${:2.0f}\\;\\AA$'.format(wave), \n",
    "            histtype='stepfilled',\n",
    "            alpha=0.6, bins=np.arange(.8, 1.1, .01))\n",
    "    \n",
    "ax.set_xlabel('R relative to perfect alignment')\n",
    "ax.set_ylabel('Simulations')\n",
    "\n",
    "axa.set_xlabel('$A_\\mathrm{eff}$ relative to perfect alignment')\n",
    "axa.set_ylabel('Simulations')\n",
    "out = ax.legend()\n",
    "\n",
    "fig.savefig(os.path.join(get_path('figures'), 'alignbudget.pdf'), bbox_inches='tight')\n",
    "fig.savefig(os.path.join(get_path('figures'), 'alignbudget.png'), bbox_inches='tight', dpi=300) "
   ]
  },
  {
   "cell_type": "markdown",
   "metadata": {},
   "source": [
    "## Plots with detailed formatting\n",
    "\n",
    "This repeats plots from above, but the formatting, labels et.c are tweaked by hand to look good in a publication."
   ]
  },
  {
   "cell_type": "code",
   "execution_count": null,
   "metadata": {},
   "outputs": [],
   "source": [
    "tab = Table.read(os.path.join(get_path('tolerances'), 'CAT_global.fits'))\n",
    "\n",
    "axes_facecolor = '0.9'\n",
    "       \n",
    "fig = plt.figure(figsize=(7, 5))\n",
    "fig.subplots_adjust(wspace=0, hspace=0)\n",
    "\n",
    "axx = fig.add_subplot(2, 3, 1)\n",
    "axy = fig.add_subplot(2, 3, 2, sharex=axx, sharey=axx)\n",
    "axz = fig.add_subplot(2, 3, 3, sharex=axx, sharey=axx)\n",
    "atx = fig.add_subplot(2, 3, 4, sharex=axx)\n",
    "aty = fig.add_subplot(2, 3, 5, sharex=axx, sharey=atx)\n",
    "atz = fig.add_subplot(2, 3, 6, sharex=axx, sharey=atx)\n",
    "axes = [axx, axy, axz, atx, aty, atz]\n",
    "\n",
    "for i, c in enumerate(['rx', 'ry', 'rz']):\n",
    "        plot_wiggle(tab, c, ['dx', 'dy', 'dz', 'rx', 'ry', 'rz'], axes[i], axes[i+3], axes_facecolor=axes_facecolor)\n",
    "    \n",
    "\n",
    "leg = fig.axes[0].legend(loc='lower center')\n",
    "    \n",
    "axx.set_xlim(-1.2, 1.2)\n",
    "atx.set_ylim(0, None)\n",
    "axx.set_ylabel('Resolving power')\n",
    "atx.set_ylabel('$A_{eff}$ [cm$^2$]')\n",
    "    \n",
    "for i in [1,2,4,5]:\n",
    "    axes[i].tick_params(labelleft=False)  \n",
    "    axes[i].set_ylabel('')\n",
    "for i in [0, 1, 2]:\n",
    "    axes[i].tick_params(labelbottom=False) \n",
    "    \n",
    "axes[4].set_xlabel('Rotation (deg)')\n",
    "\n",
    "fig.savefig(os.path.join(get_path('figures'), 'CATalignment_global.pdf'), dpi=600, bbox_inches='tight') \n",
    "fig.savefig(os.path.join(get_path('figures'), 'CATalignment_global.png'), dpi=600, bbox_inches='tight')    "
   ]
  },
  {
   "cell_type": "code",
   "execution_count": null,
   "metadata": {},
   "outputs": [],
   "source": [
    "tab = Table.read(os.path.join(get_path('tolerances'), 'CAT_individual.fits'))\n",
    "\n",
    "axes_facecolor = (1.0, .9, .9)\n",
    "       \n",
    "fig = plt.figure(figsize=(7, 5))\n",
    "fig.subplots_adjust(wspace=0, hspace=0)\n",
    "\n",
    "axx = fig.add_subplot(2, 3, 1)\n",
    "axy = fig.add_subplot(2, 3, 2, sharex=axx, sharey=axx)\n",
    "axz = fig.add_subplot(2, 3, 3, sharex=axx, sharey=axx)\n",
    "atx = fig.add_subplot(2, 3, 4, sharex=axx)\n",
    "aty = fig.add_subplot(2, 3, 5, sharex=axx, sharey=atx)\n",
    "atz = fig.add_subplot(2, 3, 6, sharex=axx, sharey=atx)\n",
    "axes = [axx, axy, axz, atx, aty, atz]\n",
    "\n",
    "for i, c in enumerate(['rx', 'ry', 'rz']):\n",
    "        plot_wiggle(tab, c, ['dx', 'dy', 'dz', 'rx', 'ry', 'rz'], axes[i], axes[i+3], axes_facecolor=axes_facecolor)\n",
    "    \n",
    "\n",
    "leg = fig.axes[0].legend(loc='upper right')\n",
    "    \n",
    "axx.set_xlim(0, 2.2)\n",
    "atx.set_ylim(0, None)\n",
    "axx.set_ylabel('Resolving power')\n",
    "atx.set_ylabel('$A_{eff}$ [cm$^2$]')\n",
    "\n",
    "for i in [1,2,4,5]:\n",
    "    axes[i].tick_params(labelleft=False)  \n",
    "    axes[i].set_ylabel('')\n",
    "for i in [0, 1, 2]:\n",
    "    axes[i].tick_params(labelbottom=False) \n",
    "    \n",
    "axes[4].set_xlabel('Rotation (deg)')\n",
    "\n",
    "fig.savefig(os.path.join(get_path('figures'), 'CATalignment_individual.pdf'), dpi=600, bbox_inches='tight') \n",
    "fig.savefig(os.path.join(get_path('figures'), 'CATalignment_individual.png'), dpi=600, bbox_inches='tight')    "
   ]
  },
  {
   "cell_type": "code",
   "execution_count": null,
   "metadata": {},
   "outputs": [],
   "source": []
  }
 ],
 "metadata": {
  "hide_input": false,
  "kernelspec": {
   "display_name": "Python [conda env:mayavi46] *",
   "language": "python",
   "name": "conda-env-mayavi46-py"
  },
  "language_info": {
   "codemirror_mode": {
    "name": "ipython",
    "version": 3
   },
   "file_extension": ".py",
   "mimetype": "text/x-python",
   "name": "python",
   "nbconvert_exporter": "python",
   "pygments_lexer": "ipython3",
   "version": "3.8.2"
  }
 },
 "nbformat": 4,
 "nbformat_minor": 2
}
