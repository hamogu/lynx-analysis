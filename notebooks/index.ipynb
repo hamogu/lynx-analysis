{
 "cells": [
  {
   "cell_type": "code",
   "execution_count": null,
   "metadata": {},
   "outputs": [],
   "source": [
    "from nbtemplate import display_header\n",
    "display_header('index.ipynb')"
   ]
  },
  {
   "cell_type": "markdown",
   "metadata": {},
   "source": [
    "# Ray-tracing the Lynx XGS\n",
    "\n",
    "[Lynx](https://www.lynxobservatory.com/) is one of the four large surveyors that NASA looked at through detailed science and technical studies in preparation for the 2020 Decadal survey. In the Design Reference Mission (DRM) Lynx has a diffraction grating for high-resolution spectrocopy of soft X-rays. The science requirements for this instrument are a spectral resolving power $R > 5000$ and an effective area $A_{\\mathrm{eff}} > 4000$ cm$^2$ at 0.6 keV. Such a spectrometer could be build with either reflection or transmission gratings. The DRM baselines critical angle transmission (CAT) gratings. On these pages, I present ray-traces for performance and trades for the CAT XGS. Most of the content is published in the following literature references, but the results presented here have been updated with respect to that and include additional material, such as more detailed plots and interactive 3D models of the instrument:\n",
    "\n",
    "- [Lynx grating spectrometer design: Optimizing chirped transmission gratings (SPIE proc, 2020)](https://ui.adsabs.harvard.edu/abs/2020arXiv201114862G/abstract)\n",
    "- [Design progress on the Lynx soft x-ray critical-angle transmission grating spectrometer (SPIE proc, 2019)](https://ui.adsabs.harvard.edu/abs/2020arXiv201114862G/abstract)\n",
    "- [Lynx soft x-ray critical-angle transmission grating spectrometer (JATIS, 2019)](https://ui.adsabs.harvard.edu/abs/2019JATIS...5b1003G/abstract)\n",
    "\n",
    "Please let me know if you have any questions or need high-resolution versions of any of the plots or\n",
    "the data to recreate the plot by emailing hgunther@mit.edu . (The plots here are optimized for viewing on the web and do not have enough resolution for print publications.)\n",
    "\n",
    "Here is the pointer to the software used:\n",
    "\n",
    "- My general ray-trace code [MARXS](http://marxs.readthedocs.io/en/latest/index.html)\n",
    "- Ray-trace code [specific to Lynx](https://github.com/hamogu/marxs-lynx)"
   ]
  },
  {
   "cell_type": "markdown",
   "metadata": {},
   "source": [
    "## Lynx XGS: How does is look?\n",
    "In this section, I show how the XGS setup looks. I start with an interactive 3D view, which can be zoomed and rotated with the mouse in all supported browsers; pressing \"r\" returns the view to the initial position. See [the X3DOM documentation](https://www.x3dom.org/documentation/interaction/) for a full list of supported mouse and keyboard commands.\n",
    "\n",
    "Rays start in the aperture, which is shaped like a series of concentrig rings. The exact dimensions of the mirror, in particular the position of support spiders etc. are somewhat arbitrary at this point, since the mirror design is still nominal and will be refined at a later stage in the development. In the Lynx mirrors, photons will bounce twice in a Wolter-Schwarzschild geometry. However, in this simulation the mirror is simplified such that the reflection actually happens in a single plane, shown in white (the the double refelction is taken into account when calcualting the survoval probability of a photon).  \n",
    "\n",
    "\n",
    "Rays are imaged onto detectors (yellow). The color of the rays is according to their diffraction order. Since this is a monoenergetic simualtion, the orders are well separated."
   ]
  },
  {
   "cell_type": "code",
   "execution_count": null,
   "metadata": {},
   "outputs": [],
   "source": [
    "from mayavi import mlab\n",
    "mlab.init_notebook('x3d', 800, 500, local=False)"
   ]
  },
  {
   "cell_type": "code",
   "execution_count": null,
   "metadata": {},
   "outputs": [],
   "source": [
    "import numpy as np\n",
    "import astropy.units as u\n",
    "from astropy.table import Table\n",
    "from astropy.coordinates import SkyCoord\n",
    "from marxs.source import PointSource, FixedPointing\n",
    "from marxs import simulator\n",
    "from marxs.visualization.mayavi import plot_object, plot_rays\n",
    "from marxslynx.ralfgrating import facet_table\n",
    "from marxslynx import lynx"
   ]
  },
  {
   "cell_type": "code",
   "execution_count": null,
   "metadata": {},
   "outputs": [],
   "source": [
    "n_photons = 1e4\n",
    "wave = np.arange(6., 60., 0.5) * u.Angstrom\n",
    "energies = wave.to(u.keV, equivalencies=u.spectral())\n",
    "instrument = lynx.LynxForPlot(conf=lynx.conf_chirp)\n"
   ]
  },
  {
   "cell_type": "code",
   "execution_count": null,
   "metadata": {},
   "outputs": [],
   "source": [
    "facettab = facet_table(instrument.elements[2])"
   ]
  },
  {
   "cell_type": "code",
   "execution_count": null,
   "metadata": {},
   "outputs": [],
   "source": [
    "ind = np.abs(np.abs(facettab['facet_ang'])) < np.pi * 2 / 3"
   ]
  },
  {
   "cell_type": "code",
   "execution_count": null,
   "metadata": {},
   "outputs": [],
   "source": [
    "instrument.elements[2].elements = [instrument.elements[2].elements[i] for i in ind.nonzero()[0]]"
   ]
  },
  {
   "cell_type": "code",
   "execution_count": null,
   "metadata": {},
   "outputs": [],
   "source": [
    "src = PointSource(coords=SkyCoord(30. * u.deg, 30. * u.deg),\n",
    "                           energy=0.4 * u.keV,\n",
    "                           flux=1. / u.s / u.cm**2)\n",
    "pointing = FixedPointing(coords=SkyCoord(30 * u.deg, 30. * u.deg))"
   ]
  },
  {
   "cell_type": "code",
   "execution_count": null,
   "metadata": {},
   "outputs": [],
   "source": [
    "keeppos = simulator.KeepCol('pos')\n",
    "keepprob = simulator.KeepCol('probability')\n",
    "instrument.postprocess_steps = [keeppos, keepprob]\n",
    "photons = src.generate_photons(n_photons * u.s)\n",
    "photons = pointing(photons)\n",
    "photons = instrument(photons)"
   ]
  },
  {
   "cell_type": "code",
   "execution_count": null,
   "metadata": {},
   "outputs": [],
   "source": [
    "fig = mlab.figure(bgcolor=(.8, .8, .8))\n",
    "mlab.clf()\n",
    "\n",
    "out = plot_object(instrument, viewer=fig)\n",
    "\n",
    "pos = keeppos.format_positions()\n",
    "ind = (photons['CCD_ID'] >= 0) | np.isfinite(photons['microcal_x'])\n",
    "photons['order'][np.isnan(photons['order'])] = 0\n",
    "out = plot_rays(pos[ind, :, :], scalar=photons['order'][ind], viewer=fig)\n",
    "\n",
    "\n",
    "# move camera programatically mlab.view()\n",
    "fig"
   ]
  },
  {
   "cell_type": "markdown",
   "metadata": {},
   "source": [
    "Basic design for a Lynx CAT grating spectrometer, showing a ray-trace for an on-axis point source with a monochromatic emission at 0.4 keV = 31 Å.\n",
    "This is the scenario with the largest gratings we studied (60 mm * 180 mm). Gratings are arbitrarily colored in sectors. Not the entire aperture is filled with gratings. We study different ways to sub-aperture and this is just one possible configuration.\n",
    "\n",
    "Rays detected in the zeroth order (direct light) are shown in grey, diffracted photons in order -3 in green. The other orders do not fall onto detectors and are thus not shown."
   ]
  }
 ],
 "metadata": {
  "kernelspec": {
   "display_name": "Python 3",
   "language": "python",
   "name": "python3"
  },
  "language_info": {
   "codemirror_mode": {
    "name": "ipython",
    "version": 3
   },
   "file_extension": ".py",
   "mimetype": "text/x-python",
   "name": "python",
   "nbconvert_exporter": "python",
   "pygments_lexer": "ipython3",
   "version": "3.7.7"
  }
 },
 "nbformat": 4,
 "nbformat_minor": 4
}
