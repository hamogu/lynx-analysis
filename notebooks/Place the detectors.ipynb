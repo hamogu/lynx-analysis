{
 "cells": [
  {
   "cell_type": "code",
   "execution_count": null,
   "metadata": {},
   "outputs": [],
   "source": [
    "from nbtemplate import display_header, get_path, display_codetoggle\n",
    "display_header('Place the detectors.ipynb')"
   ]
  },
  {
   "cell_type": "code",
   "execution_count": null,
   "metadata": {},
   "outputs": [],
   "source": [
    "from __future__ import print_function, division\n",
    "import sys\n",
    "import numpy as np\n",
    "from astropy.coordinates import SkyCoord\n",
    "from astropy.table import Table, join\n",
    "import astropy.units as u\n",
    "import marxs\n",
    "from marxs import visualization\n",
    "\n",
    "from marxs.source import PointSource, FixedPointing, JitterPointing\n",
    "from marxs.analysis import resolvingpower_from_photonlist\n",
    "from marxs.simulator import Sequence\n",
    "\n",
    "%matplotlib inline\n",
    "import matplotlib.pyplot as plt"
   ]
  },
  {
   "cell_type": "code",
   "execution_count": null,
   "metadata": {},
   "outputs": [],
   "source": [
    "from marxslynx import lynx"
   ]
  },
  {
   "cell_type": "code",
   "execution_count": null,
   "metadata": {},
   "outputs": [],
   "source": [
    "wave = np.arange(12., 50., .1) * u.Angstrom\n",
    "energy = wave.to(u.keV, equivalencies = u.spectral())\n",
    "flux = np.ones_like(wave)[1:] / np.abs(np.diff(energy))\n",
    "\n",
    "mysource = PointSource(coords=SkyCoord(0., 0., unit='deg'),\n",
    "                           energy={\"energy\": energy[::-1][1:], \"flux\": flux[::-1]},\n",
    "                           flux=1.)\n",
    "fixedpointing = FixedPointing(coords=SkyCoord(0., 0., unit='deg'))\n",
    "photons = mysource.generate_photons(1e5)\n",
    "photons = fixedpointing(photons)\n",
    "\n"
   ]
  },
  {
   "cell_type": "code",
   "execution_count": null,
   "metadata": {},
   "outputs": [],
   "source": [
    "pl = lynx.PerfectLynx()\n",
    "\n",
    "photons = pl(photons)\n",
    "photons = photons[np.isfinite(photons['order'])]"
   ]
  },
  {
   "cell_type": "code",
   "execution_count": null,
   "metadata": {},
   "outputs": [],
   "source": [
    "fig = plt.figure()\n",
    "ax = fig.add_subplot(111)\n",
    "ind = (photons['detcirc_phi'] > -0.1) & (photons['detcirc_phi'] < 0.3)\n",
    "out = ax.hist(photons['detcirc_phi'][ind], weights=photons['probability'][ind], bins=50)"
   ]
  },
  {
   "cell_type": "code",
   "execution_count": null,
   "metadata": {},
   "outputs": [],
   "source": [
    "ind.sum()"
   ]
  },
  {
   "cell_type": "code",
   "execution_count": null,
   "metadata": {},
   "outputs": [],
   "source": [
    "import astropy.units as u\n",
    "photons['wave'] = photons['energy'].to(u.Angstrom, equivalencies=u.spectral())\n",
    "wavelim = np.arange(12., 49, 12)\n",
    "px = [photons['proj_x'][(photons['wave'] > wavelim[i]) & (photons['wave'] < wavelim[i+1])] for i in range(len(wavelim)-1)]\n",
    "weights = [photons['probability'][(photons['wave'] > wavelim[i]) & (photons['wave'] < wavelim[i+1])] for i in range(len(wavelim)- 1)]\n",
    "labels = ['{}-{} nm'.format(wavelim[i]/10, wavelim[i+1]/10) for i in range(len(wavelim) -1)]"
   ]
  },
  {
   "cell_type": "code",
   "execution_count": null,
   "metadata": {},
   "outputs": [],
   "source": [
    "fig = plt.figure(figsize=(4,3))\n",
    "ax = fig.add_subplot(111)\n",
    "out = ax.hist(px, weights=weights, bins=np.arange(-400, 800, 30), histtype='barstacked', label=labels)\n",
    "ax.legend()\n",
    "ax.set_ylabel('Number of photons')\n",
    "ax.set_xlabel('Distance from focal point [mm]')\n",
    "fig.savefig(get_path('figures')+ '/detectorplacement.png', \n",
    "            dpi=300, bbox_inches='tight')\n",
    "fig.savefig(get_path('figures') + '/detectorplacement.pdf', bbox_inches='tight')\n"
   ]
  },
  {
   "cell_type": "code",
   "execution_count": null,
   "metadata": {},
   "outputs": [],
   "source": [
    "#CCDs are about 49 mm long"
   ]
  },
  {
   "cell_type": "code",
   "execution_count": null,
   "metadata": {},
   "outputs": [],
   "source": [
    "from marxs import optics\n",
    "from marxslynx.lynx import conf\n"
   ]
  },
  {
   "cell_type": "code",
   "execution_count": null,
   "metadata": {},
   "outputs": [],
   "source": [
    "from marxslynx.lynx import RowlandDetArray\n",
    "conf['det_kwargs']['theta'] = [3.1, 3.18]\n",
    "r = RowlandDetArray(conf)\n",
    "len(r.elements), r.elements[0].geometry['center'], r.elements[-1].geometry['center']\n"
   ]
  },
  {
   "cell_type": "code",
   "execution_count": null,
   "metadata": {},
   "outputs": [],
   "source": [
    "mysource = PointSource(coords=SkyCoord(0., 0., unit='deg'),\n",
    "                           energy={\"energy\": np.arange(1., 10, 1), \"flux\": np.ones(9)},\n",
    "                           flux=1.)\n",
    "fixedpointing = FixedPointing(coords=SkyCoord(0., 0., unit='deg'))\n",
    "photons = mysource.generate_photons(1e5)\n",
    "photons = fixedpointing(photons)"
   ]
  },
  {
   "cell_type": "code",
   "execution_count": null,
   "metadata": {},
   "outputs": [],
   "source": [
    "photons = pl.elements[0](photons)"
   ]
  },
  {
   "cell_type": "code",
   "execution_count": null,
   "metadata": {},
   "outputs": [],
   "source": [
    "p = pl.elements[2](photons.copy())\n",
    "p = pl.elements[3](p)\n",
    "p = pl.elements[4](p)"
   ]
  },
  {
   "cell_type": "code",
   "execution_count": null,
   "metadata": {},
   "outputs": [],
   "source": [
    "before = np.histogram(photons['energy'], weights=photons['probability'], bins=np.arange(1., 10, 1))\n",
    "ind = p['order'] == 0\n",
    "after = np.histogram(p['energy'][ind], weights=p['probability'][ind], bins=np.arange(1., 10, 1))"
   ]
  },
  {
   "cell_type": "code",
   "execution_count": null,
   "metadata": {},
   "outputs": [],
   "source": [
    "fig = plt.figure(figsize=(4,3))\n",
    "ax = fig.add_subplot(111)\n",
    "frac = after[0] / before[0]\n",
    "tsubaperangle = np.linspace(0, np.pi/2, 7)[1:]\n",
    "for i, ang in enumerate(tsubaperangle):\n",
    "    ax.plot(np.arange(1.5, 9.), \n",
    "             ang/np.pi * frac + (np.pi -ang)/np.pi, \n",
    "             label='{:3.0f}'.format(np.rad2deg(ang)))\n",
    "\n",
    "ax.legend(title='Subaperture\\nangle [deg]', loc='lower right')\n",
    "ax.set_xlabel('energy [keV]')\n",
    "ax.set_ylabel('photon fraction in 0th order')\n",
    "fig.savefig(get_path('figures') + 'highen.png', \n",
    "            dpi=300, bbox_inches='tight')\n",
    "fig.savefig(get_path('figures') + 'highen.pdf', bbox_inches='tight')"
   ]
  },
  {
   "cell_type": "code",
   "execution_count": null,
   "metadata": {},
   "outputs": [],
   "source": [
    "row = lynx.conf['rowland']\n",
    "row.R, row.r, np.rad2deg(lynx.conf['alpha']), np.rad2deg(lynx.conf['beta'])"
   ]
  },
  {
   "cell_type": "code",
   "execution_count": null,
   "metadata": {},
   "outputs": [],
   "source": [
    "display_codetogle()"
   ]
  },
  {
   "cell_type": "code",
   "execution_count": null,
   "metadata": {},
   "outputs": [],
   "source": []
  }
 ],
 "metadata": {
  "hide_input": false,
  "kernelspec": {
   "display_name": "Python [conda env:mayavi3]",
   "language": "python",
   "name": "conda-env-mayavi3-py"
  },
  "language_info": {
   "codemirror_mode": {
    "name": "ipython",
    "version": 3
   },
   "file_extension": ".py",
   "mimetype": "text/x-python",
   "name": "python",
   "nbconvert_exporter": "python",
   "pygments_lexer": "ipython3",
   "version": "3.6.6"
  }
 },
 "nbformat": 4,
 "nbformat_minor": 2
}
