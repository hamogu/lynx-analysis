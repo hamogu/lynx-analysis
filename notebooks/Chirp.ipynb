{
 "cells": [
  {
   "cell_type": "code",
   "execution_count": null,
   "metadata": {},
   "outputs": [],
   "source": [
    "from marxslynx.lynx import PerfectLynx, conf"
   ]
  },
  {
   "cell_type": "code",
   "execution_count": null,
   "metadata": {},
   "outputs": [],
   "source": [
    "import numpy as np\n",
    "from astropy.coordinates import SkyCoord\n",
    "from marxs.source import PointSource, FixedPointing, JitterPointing\n",
    "from marxs.utils import generate_test_photons\n",
    "from marxs.simulator import Sequence"
   ]
  },
  {
   "cell_type": "code",
   "execution_count": null,
   "metadata": {},
   "outputs": [],
   "source": [
    "import matplotlib.pyplot as plt\n",
    "%matplotlib inline"
   ]
  },
  {
   "cell_type": "code",
   "execution_count": null,
   "metadata": {},
   "outputs": [],
   "source": [
    "conf['grating_size'] = np.array([250., 250.])"
   ]
  },
  {
   "cell_type": "code",
   "execution_count": null,
   "metadata": {},
   "outputs": [],
   "source": [
    "n_photons = 1e4\n",
    "instrument = PerfectLynx(conf)"
   ]
  },
  {
   "cell_type": "code",
   "execution_count": null,
   "metadata": {},
   "outputs": [],
   "source": [
    "instrument.elements[2].elements[0]._d"
   ]
  },
  {
   "cell_type": "code",
   "execution_count": null,
   "metadata": {},
   "outputs": [],
   "source": [
    "len(instrument.elements[2].elements)"
   ]
  },
  {
   "cell_type": "code",
   "execution_count": null,
   "metadata": {},
   "outputs": [],
   "source": [
    "mysource = PointSource(coords=SkyCoord(0., 0., unit='deg'),\n",
    "                           energy=0.5,\n",
    "                           flux=1.)\n",
    "fixedpointing = FixedPointing(coords=SkyCoord(0., 0., unit='deg'))\n",
    "photons = mysource.generate_photons(n_photons)\n",
    "photons = fixedpointing(photons)\n",
    "photons = Sequence(elements=instrument.elements[:2])(photons)\n",
    "p = Sequence(elements=instrument.elements[2:])(photons.copy())\n",
    "\n",
    "    "
   ]
  },
  {
   "cell_type": "code",
   "execution_count": null,
   "metadata": {},
   "outputs": [],
   "source": [
    "ind = np.isfinite(p['detcirc_phi'])\n",
    "out = plt.hist(p['detcirc_phi'][ind], weights=p['probability'][ind], bins=100)"
   ]
  },
  {
   "cell_type": "code",
   "execution_count": null,
   "metadata": {},
   "outputs": [],
   "source": [
    "instrument.elements"
   ]
  },
  {
   "cell_type": "code",
   "execution_count": null,
   "metadata": {},
   "outputs": [],
   "source": [
    "from marxslynx.bendgratings import NumericalChirpFinder, chirp_gratings"
   ]
  },
  {
   "cell_type": "code",
   "execution_count": null,
   "metadata": {},
   "outputs": [],
   "source": [
    "instrumchirp = PerfectLynx(conf)\n",
    "opt = NumericalChirpFinder(instrument.elements[9], instrumchirp.elements[2].elements[0], order=-5, energy=0.5, d=0.0002)"
   ]
  },
  {
   "cell_type": "code",
   "execution_count": null,
   "metadata": {},
   "outputs": [],
   "source": [
    "chirp_gratings(instrumchirp.elements[2].elements, opt)"
   ]
  },
  {
   "cell_type": "code",
   "execution_count": null,
   "metadata": {},
   "outputs": [],
   "source": [
    "from marxs.optics import OrderSelector\n",
    "from marxs.math.utils import e2h, h2e, norm_vector"
   ]
  },
  {
   "cell_type": "code",
   "execution_count": null,
   "metadata": {},
   "outputs": [],
   "source": [
    "from scipy.optimize import minimize_scalar"
   ]
  },
  {
   "cell_type": "code",
   "execution_count": null,
   "metadata": {},
   "outputs": [],
   "source": [
    "class ChirpFinder():\n",
    "    uv = [0, 0]\n",
    "    def __init__(self, detector, grat, order, energy, d=0.0002):\n",
    "        self.photon = generate_test_photons(1)\n",
    "        self.detector = detector\n",
    "        self.grat = grat\n",
    "        self.energy = energy\n",
    "        self.order = order\n",
    "        self.base_d = d\n",
    "        self.calc_goal()\n",
    "    def set_grat(self, grat):\n",
    "        self.grat = grat\n",
    "        self.calc_goal()\n",
    "    def set_uv(self, uv):\n",
    "        self.uv = uv\n",
    "        self.init_photon()\n",
    "    def calc_goal(self):\n",
    "        self.grat.order_selector = OrderSelector([self.order])\n",
    "        self.grat._d = self.base_d\n",
    "        self.set_uv([0., 0.])\n",
    "        self.run_photon()\n",
    "        self.goal = self.photon['detcirc_phi'][0]\n",
    "    def init_photon(self):\n",
    "        posongrat = h2e(self.grat.geometry['center'] + \n",
    "                        self.uv[0] * self.grat.geometry['v_y'] + \n",
    "                        self.uv[1] * self.grat.geometry['v_z'])\n",
    "        self.pos = e2h(1.1 * posongrat, 1)\n",
    "        self.dir = norm_vector(- e2h(posongrat.reshape(1, 3), 0))\n",
    "        self.reset_photon()\n",
    "    def reset_photon(self):\n",
    "        self.photon['pos'] = self.pos\n",
    "        self.photon['dir'] = self.dir\n",
    "        self.photon['probability'] = 1\n",
    "    def run_photon(self):\n",
    "        self.reset_photon()\n",
    "        self.photon = self.grat(self.photon)\n",
    "        self.photon = self.detector(self.photon)\n",
    "    def optimize_func(self, d):\n",
    "        self.grat._d = d * self.base_d\n",
    "        self.run_photon()\n",
    "        return np.abs(self.photon['detcirc_phi'][0] - self.goal)\n",
    "        \n",
    "    \n"
   ]
  },
  {
   "cell_type": "code",
   "execution_count": null,
   "metadata": {},
   "outputs": [],
   "source": [
    "instrumchirp = PerfectLynx(conf)\n",
    "opt = ChirpFinder(instrument.elements[9], instrumchirp.elements[2].elements[0], order=-5, energy=0.5, d=0.0002)"
   ]
  },
  {
   "cell_type": "code",
   "execution_count": null,
   "metadata": {
    "scrolled": false
   },
   "outputs": [],
   "source": [
    "res = np.zeros((len(instrumchirp.elements[2].elements), 3, 3))\n",
    "for i, grat in enumerate(instrumchirp.elements[2].elements):\n",
    "    if np.mod(i, 10) == 0:\n",
    "        print(i)\n",
    "    opt.set_grat(grat)\n",
    "    for j, u in enumerate(np.linspace(-.99, .99, res.shape[1])):\n",
    "        #for k, v in enumerate(np.linspace(-.99, .99, res.shape[2])):\n",
    "        for k, v in enumerate([0.]):\n",
    "            opt.set_uv([u, v])\n",
    "            res[i, j, k] = minimize_scalar(opt.optimize_func, bracket=(.99, 1., 1.01)).x\n",
    "            \n",
    "    ly = np.linalg.norm(grat.geometry['v_y'])\n",
    "    lz = np.linalg.norm(grat.geometry['v_z'])\n",
    "    grat.spline = RectBivariateSpline(\n",
    "                        ly * np.linspace(-.99, .99, res.shape[1]), \n",
    "                        lz * np.linspace(-.99, .99, res.shape[2]), \n",
    "                        0.0002 * dbetter[i, :, :],\n",
    "                        bbox=[-ly, ly, -lz, lz],\n",
    "                        kx=2, ky=2)\n",
    "    grat.interpy = 0.0002 * np.array([dbetter[i, 0, 0], dbetter[i, 2, 0]], copy=True)\n",
    "    def func(self, intercoos):\n",
    "        return self.spline(intercoos[:, 0], intercoos[:, 1], grid=False)\n",
    "    #def func(self, intercoos):\n",
    "    #    return np.interp(intercoos[:, 0],\n",
    "    #                     ly * np.array([-.99, .99]), \n",
    "    #                     self.interpy)\n",
    "    # Invoking the descriptor protocol to create a bound method\n",
    "    # see https://stackoverflow.com/questions/972/adding-a-method-to-an-existing-object-instance\n",
    "    grat._d = func.__get__(grat)\n",
    "            \n",
    "instrumchirp = PerfectLynx(conf)\n",
    "dbetter = res\n",
    "# In current experiment, only first column is filled with values\n",
    "dbetter[:, :, 1] = dbetter[:, :, 0]\n",
    "dbetter[:, :, 2] = dbetter[:, :, 0]\n",
    "#dbetter = np.ones_like(res)\n",
    "for i, grat in enumerate(instrumchirp.elements[2].elements):\n"
   ]
  },
  {
   "cell_type": "code",
   "execution_count": null,
   "metadata": {},
   "outputs": [],
   "source": []
  },
  {
   "cell_type": "code",
   "execution_count": null,
   "metadata": {},
   "outputs": [],
   "source": [
    "epos = np.stack(instrument.elements[2].elem_pos)\n",
    "plt.scatter(epos[:, 1, 3], epos[:, 2, 3]), c = res[:, 0,0])\n",
    "plt.colorbar()"
   ]
  },
  {
   "cell_type": "code",
   "execution_count": null,
   "metadata": {},
   "outputs": [],
   "source": [
    "from scipy.interpolate import RectBivariateSpline"
   ]
  },
  {
   "cell_type": "code",
   "execution_count": null,
   "metadata": {},
   "outputs": [],
   "source": [
    "instrumchirp = PerfectLynx(conf)\n",
    "dbetter = res\n",
    "# In current experiment, only first column is filled with values\n",
    "dbetter[:, :, 1] = dbetter[:, :, 0]\n",
    "dbetter[:, :, 2] = dbetter[:, :, 0]\n",
    "#dbetter = np.ones_like(res)\n",
    "for i, grat in enumerate(instrumchirp.elements[2].elements):\n",
    "    ly = np.linalg.norm(grat.geometry['v_y'])\n",
    "    lz = np.linalg.norm(grat.geometry['v_z'])\n",
    "    grat.spline = RectBivariateSpline(\n",
    "                        ly * np.linspace(-.99, .99, res.shape[1]), \n",
    "                        lz * np.linspace(-.99, .99, res.shape[2]), \n",
    "                        0.0002 * dbetter[i, :, :],\n",
    "                        bbox=[-ly, ly, -lz, lz],\n",
    "                        kx=2, ky=2)\n",
    "    grat.interpy = 0.0002 * np.array([dbetter[i, 0, 0], dbetter[i, 2, 0]], copy=True)\n",
    "    def func(self, intercoos):\n",
    "        return self.spline(intercoos[:, 0], intercoos[:, 1], grid=False)\n",
    "    #def func(self, intercoos):\n",
    "    #    return np.interp(intercoos[:, 0],\n",
    "    #                     ly * np.array([-.99, .99]), \n",
    "    #                     self.interpy)\n",
    "    # Invoking the descriptor protocol to create a bound method\n",
    "    # see https://stackoverflow.com/questions/972/adding-a-method-to-an-existing-object-instance\n",
    "    grat._d = func.__get__(grat)"
   ]
  },
  {
   "cell_type": "code",
   "execution_count": null,
   "metadata": {},
   "outputs": [],
   "source": [
    "ly * np.array([-.99, .99])"
   ]
  },
  {
   "cell_type": "code",
   "execution_count": null,
   "metadata": {},
   "outputs": [],
   "source": [
    "\n",
    "chirprunner = Sequence(elements=instrumchirp.elements[2:])\n",
    "pchirp = chirprunner(photons.copy())"
   ]
  },
  {
   "cell_type": "code",
   "execution_count": null,
   "metadata": {
    "scrolled": true
   },
   "outputs": [],
   "source": [
    "ind = p['order'] == -5\n",
    "plt.plot(p['detcirc_phi'][ind], p['detcirc_y'][ind], '.')\n",
    "ind = pchirp['order'] == -5\n",
    "plt.plot(pchirp['detcirc_phi'][ind], pchirp['detcirc_y'][ind], '.')\n",
    "#plt.xlim([.12284, .1229])\n",
    "#plt.ylim([-0.2, 0.2])\n",
    "ind.sum()"
   ]
  },
  {
   "cell_type": "code",
   "execution_count": null,
   "metadata": {},
   "outputs": [],
   "source": [
    "bins = np.linspace(-0.0014, -0.0009, 50)\n",
    "ind = p['order'] == -5\n",
    "out = plt.hist(p['detcirc_phi'][ind], weights=p['probability'][ind], bins=bins, label='p')\n",
    "print(np.std(p['detcirc_phi'][ind]))\n",
    "ind = pchirp['order'] == -5\n",
    "out = plt.hist(pchirp['detcirc_phi'][ind], weights=pchirp['probability'][ind], bins=bins, histtype='step', label='chirp')\n",
    "print(np.std(pchirp['detcirc_phi'][ind]))\n",
    "plt.legend()"
   ]
  },
  {
   "cell_type": "code",
   "execution_count": null,
   "metadata": {},
   "outputs": [],
   "source": [
    "ind = p['order'] == -5\n",
    "plt.plot(p['detcirc_phi'][ind], p['grat_y'][ind], '.')\n",
    "ind = pchirp['order'] == -5\n",
    "plt.plot(pchirp['detcirc_phi'][ind], pchirp['grat_y'][ind], '.')"
   ]
  },
  {
   "cell_type": "code",
   "execution_count": null,
   "metadata": {},
   "outputs": [],
   "source": [
    "instrument = PerfectLynx(conf)\n",
    "p5runner = Sequence(elements=instrument.elements[2:])\n",
    "for e in p5runner.elements[0].elements:\n",
    "    e.order_selector = OrderSelector([-5])\n",
    "p5 = p5runner(photons.copy())\n",
    "chirp5runner = Sequence(elements=instrumchirp.elements[2:])\n",
    "for e in chirp5runner.elements[0].elements:\n",
    "    e.order_selector = OrderSelector([-5])\n",
    "pchirp5 = chirp5runner(photons.copy())"
   ]
  },
  {
   "cell_type": "code",
   "execution_count": null,
   "metadata": {},
   "outputs": [],
   "source": [
    "from astropy.table import Table, join\n",
    "facets = Table({'facet': np.arange(len(instrument.elements[2].elements)), \n",
    "                'facet_x':epos[:, 0, 3], 'facet_y': epos[:, 1, 3], 'facet_z':epos[:, 2, 3]})\n",
    "p5 = join(p5, facets)\n",
    "pchirp5 = join(pchirp5, facets)"
   ]
  },
  {
   "cell_type": "code",
   "execution_count": null,
   "metadata": {},
   "outputs": [],
   "source": [
    "p5.colnames"
   ]
  },
  {
   "cell_type": "code",
   "execution_count": null,
   "metadata": {},
   "outputs": [],
   "source": [
    "plt.scatter(pchirp5['detcirc_phi'], pchirp5['grat_y'], c=p5['facet_y'])\n",
    "plt.xlim(-0.0014, -0.0008)\n",
    "plt.colorbar()"
   ]
  },
  {
   "cell_type": "code",
   "execution_count": null,
   "metadata": {},
   "outputs": [],
   "source": [
    "plt.scatter(p5['detcirc_phi'], p5['grat_y'], c=p5['facet_y'])\n",
    "plt.xlim(-0.0014, -0.0008)\n",
    "plt.colorbar()"
   ]
  },
  {
   "cell_type": "code",
   "execution_count": null,
   "metadata": {},
   "outputs": [],
   "source": [
    "from marxs.analysis.gratings import resolvingpower_from_photonlist"
   ]
  },
  {
   "cell_type": "code",
   "execution_count": null,
   "metadata": {},
   "outputs": [],
   "source": [
    "res0, pos0, std0 = resolvingpower_from_photonlist(p, np.arange(-8, 1), col='detcirc_phi')"
   ]
  },
  {
   "cell_type": "code",
   "execution_count": null,
   "metadata": {},
   "outputs": [],
   "source": [
    "resc, posc, stdc = resolvingpower_from_photonlist(pchirp, np.arange(-8, 1), col='detcirc_phi')"
   ]
  },
  {
   "cell_type": "code",
   "execution_count": null,
   "metadata": {
    "scrolled": false
   },
   "outputs": [],
   "source": [
    "plt.plot(np.arange(-8, 1), res0)\n",
    "plt.plot(np.arange(-8, 1), resc)"
   ]
  },
  {
   "cell_type": "code",
   "execution_count": null,
   "metadata": {},
   "outputs": [],
   "source": []
  },
  {
   "cell_type": "code",
   "execution_count": null,
   "metadata": {},
   "outputs": [],
   "source": []
  }
 ],
 "metadata": {
  "hide_input": false,
  "kernelspec": {
   "display_name": "Python [conda env:mayavi3]",
   "language": "python",
   "name": "conda-env-mayavi3-py"
  },
  "language_info": {
   "codemirror_mode": {
    "name": "ipython",
    "version": 3
   },
   "file_extension": ".py",
   "mimetype": "text/x-python",
   "name": "python",
   "nbconvert_exporter": "python",
   "pygments_lexer": "ipython3",
   "version": "3.6.6"
  }
 },
 "nbformat": 4,
 "nbformat_minor": 2
}
