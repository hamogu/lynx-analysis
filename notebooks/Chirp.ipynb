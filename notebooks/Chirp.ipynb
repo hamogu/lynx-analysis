{
 "cells": [
  {
   "cell_type": "code",
   "execution_count": null,
   "metadata": {},
   "outputs": [],
   "source": [
    "from marxslynx.lynx import PerfectLynx, conf"
   ]
  },
  {
   "cell_type": "code",
   "execution_count": null,
   "metadata": {},
   "outputs": [],
   "source": [
    "import numpy as np\n",
    "from astropy.coordinates import SkyCoord\n",
    "from marxs.source import PointSource, FixedPointing, JitterPointing\n",
    "from marxs.utils import generate_test_photons\n",
    "from marxs.simulator import Sequence"
   ]
  },
  {
   "cell_type": "code",
   "execution_count": null,
   "metadata": {},
   "outputs": [],
   "source": [
    "import matplotlib.pyplot as plt\n",
    "%matplotlib inline"
   ]
  },
  {
   "cell_type": "code",
   "execution_count": null,
   "metadata": {},
   "outputs": [],
   "source": [
    "conf['grating_size'] = np.array([150., 150.])"
   ]
  },
  {
   "cell_type": "code",
   "execution_count": null,
   "metadata": {},
   "outputs": [],
   "source": [
    "n_photons = 1e4\n",
    "instrument = PerfectLynx(conf)"
   ]
  },
  {
   "cell_type": "code",
   "execution_count": null,
   "metadata": {},
   "outputs": [],
   "source": [
    "len(instrument.elements[2].elements)"
   ]
  },
  {
   "cell_type": "code",
   "execution_count": null,
   "metadata": {},
   "outputs": [],
   "source": [
    "mysource = PointSource(coords=SkyCoord(0., 0., unit='deg'),\n",
    "                           energy=0.5,\n",
    "                           flux=1.)\n",
    "fixedpointing = FixedPointing(coords=SkyCoord(0., 0., unit='deg'))\n",
    "photons = mysource.generate_photons(n_photons)\n",
    "photons = fixedpointing(photons)\n",
    "photons = Sequence(elements=instrument.elements[:2])(photons)\n",
    "p = Sequence(elements=instrument.elements[2:])(photons.copy())\n",
    "\n",
    "    "
   ]
  },
  {
   "cell_type": "code",
   "execution_count": null,
   "metadata": {},
   "outputs": [],
   "source": [
    "out = plt.hist(p['detcirc_phi'], weights=p['probability'], bins=100)"
   ]
  },
  {
   "cell_type": "code",
   "execution_count": null,
   "metadata": {},
   "outputs": [],
   "source": [
    "instrument.elements"
   ]
  },
  {
   "cell_type": "code",
   "execution_count": null,
   "metadata": {},
   "outputs": [],
   "source": [
    "from marxs.optics import OrderSelector\n",
    "from marxs.math.utils import e2h, h2e, norm_vector"
   ]
  },
  {
   "cell_type": "code",
   "execution_count": null,
   "metadata": {},
   "outputs": [],
   "source": [
    "from scipy.optimize import minimize_scalar"
   ]
  },
  {
   "cell_type": "code",
   "execution_count": null,
   "metadata": {},
   "outputs": [],
   "source": [
    "class ChirpFinder():\n",
    "    u = 0\n",
    "    v = 0\n",
    "    energy = 0.5\n",
    "    order = 0\n",
    "    def __init__(self, detector, grat, order):\n",
    "        self.photon = generate_test_photons(1)\n",
    "        self.detector = detector\n",
    "        self.grat = grat\n",
    "        self.set_order(order)\n",
    "    def set_energy(self, energy):\n",
    "        self.energy = energy\n",
    "        self.set_order(self.order)\n",
    "    def set_uv(self, u, v):\n",
    "        self.u = u\n",
    "        self.v = v\n",
    "        self.init_photon()\n",
    "    def set_order(self, order):\n",
    "        self.order = order\n",
    "        self.grat.order_selector = OrderSelector([order])\n",
    "        self.grat._d = 0.002\n",
    "        self.set_uv(0., 0.)\n",
    "        self.run_photon()\n",
    "        self.goal = self.photon['detcirc_phi'][0]\n",
    "    def init_photon(self):\n",
    "        posongrat = h2e(self.grat.geometry['center'] + self.u  * self.grat.geometry['v_y'] + self.v * self.grat.geometry['v_z'])\n",
    "        self.pos = e2h(1.1 * posongrat, 1)\n",
    "        self.dir = norm_vector(- e2h(posongrat.reshape(1, 3), 0))\n",
    "        self.reset_photon()\n",
    "    def reset_photon(self):\n",
    "        self.photon['pos'] = self.pos\n",
    "        self.photon['dir'] = self.dir\n",
    "    def run_photon(self):\n",
    "        self.reset_photon()\n",
    "        self.photon = self.grat(self.photon)\n",
    "        self.photon = self.detector(self.photon)\n",
    "    def optimize_func(self, d):\n",
    "        self.grat._d = d * 0.002\n",
    "        self.run_photon()\n",
    "        return np.abs(self.photon['detcirc_phi'][0] - self.goal)\n",
    "        \n",
    "    \n"
   ]
  },
  {
   "cell_type": "code",
   "execution_count": null,
   "metadata": {},
   "outputs": [],
   "source": [
    "opt = ChirpFinder(instrument.elements[9], instrument.elements[2].elements[0], order=-5)"
   ]
  },
  {
   "cell_type": "code",
   "execution_count": null,
   "metadata": {
    "scrolled": true
   },
   "outputs": [],
   "source": [
    "res = np.zeros((len(instrument.elements[2].elements), 3, 3))\n",
    "for i, grat in enumerate(instrument.elements[2].elements):\n",
    "    if np.mod(i, 10) == 0:\n",
    "        print(i)\n",
    "    opt.grat = grat\n",
    "    for j, u in enumerate(np.linspace(-.99, .99, res.shape[1])):\n",
    "        #for k, v in enumerate(np.linspace(-.99, .99, res.shape[2])):\n",
    "        for k, v in enumerate([0]):\n",
    "            opt.set_uv(u, v)\n",
    "            res[i, j, k] = minimize_scalar(opt.optimize_func, bracket=(.99, 1., 1.01)).x"
   ]
  },
  {
   "cell_type": "code",
   "execution_count": null,
   "metadata": {},
   "outputs": [],
   "source": [
    "epos = np.stack(instrument.elements[2].elem_pos)\n",
    "epos.shape"
   ]
  },
  {
   "cell_type": "code",
   "execution_count": null,
   "metadata": {},
   "outputs": [],
   "source": [
    "epos[300, :, 3]"
   ]
  },
  {
   "cell_type": "code",
   "execution_count": null,
   "metadata": {},
   "outputs": [],
   "source": [
    "res.shape"
   ]
  },
  {
   "cell_type": "code",
   "execution_count": null,
   "metadata": {},
   "outputs": [],
   "source": [
    "plt.scatter(epos[:, 1, 3], epos[:, 2, 3], c = res[:, 0, 1]-res[:, 2, 1])\n",
    "plt.colorbar()"
   ]
  },
  {
   "cell_type": "code",
   "execution_count": null,
   "metadata": {},
   "outputs": [],
   "source": [
    "res.shape"
   ]
  },
  {
   "cell_type": "code",
   "execution_count": null,
   "metadata": {},
   "outputs": [],
   "source": [
    "from scipy.interpolate import RectBivariateSpline"
   ]
  },
  {
   "cell_type": "code",
   "execution_count": null,
   "metadata": {},
   "outputs": [],
   "source": [
    "dbetter = res\n",
    "#dbetter = np.ones_like(res)\n",
    "instrumchirp = PerfectLynx(conf)\n",
    "for i, grat in enumerate(instrumchirp.elements[2].elements):\n",
    "    ly = np.linalg.norm(grat.geometry['v_y'])\n",
    "    lz = np.linalg.norm(grat.geometry['v_z'])\n",
    "    grat.spline = RectBivariateSpline(\n",
    "                        ly * np.linspace(-.99, .99, res.shape[1]), \n",
    "                        lz * np.linspace(-.99, .99, res.shape[1]), \n",
    "                        0.0002 * dbetter[0, :, :],\n",
    "                        bbox=[-ly, ly, -lz, lz],\n",
    "                        kx=2, ky=2)\n",
    "    def func(intercoos):\n",
    "        #print(intercoos, grat.spline(intercoos[:, 0], intercoos[:, 1], grid=False))\n",
    "        return grat.spline(intercoos[:, 0], intercoos[:, 1], grid=False)\n",
    "    grat._d = func"
   ]
  },
  {
   "cell_type": "code",
   "execution_count": null,
   "metadata": {},
   "outputs": [],
   "source": [
    "ptest = Sequence(elements=instrumchirp.elements[2:])(photons[:100].copy())\n"
   ]
  },
  {
   "cell_type": "code",
   "execution_count": null,
   "metadata": {},
   "outputs": [],
   "source": [
    "chirprunner = Sequence(elements=instrumchirp.elements[2:])\n",
    "pchirp = chirprunner(photons.copy())"
   ]
  },
  {
   "cell_type": "code",
   "execution_count": null,
   "metadata": {},
   "outputs": [],
   "source": [
    "chirprunner.elements[0].elements[0].geometry['v_z']"
   ]
  },
  {
   "cell_type": "code",
   "execution_count": null,
   "metadata": {},
   "outputs": [],
   "source": [
    "np.linalg.norm(grat.geometry['v_z']), np.linalg.norm(grat.geometry['v_y'])"
   ]
  },
  {
   "cell_type": "code",
   "execution_count": null,
   "metadata": {
    "scrolled": true
   },
   "outputs": [],
   "source": [
    "bins = np.linspace(.12285, .12288, 40)\n",
    "out = plt.hist(p['detcirc_phi'], weights=p['probability'], bins=bins)\n",
    "out = plt.hist(pchirp['detcirc_phi'], weights=pchirp['probability'], bins=bins, histtype='step')"
   ]
  },
  {
   "cell_type": "code",
   "execution_count": null,
   "metadata": {
    "scrolled": false
   },
   "outputs": [],
   "source": [
    "ind = p['order'] == -5\n",
    "plt.plot(p['detcirc_phi'][ind], p['detcirc_y'][ind], '.')\n",
    "ind = pchirp['order'] == -5\n",
    "plt.plot(pchirp['detcirc_phi'][ind], pchirp['detcirc_y'][ind], '.')\n",
    "#plt.xlim([.12284, .1229])\n",
    "#plt.ylim([-0.2, 0.2])"
   ]
  },
  {
   "cell_type": "code",
   "execution_count": null,
   "metadata": {},
   "outputs": [],
   "source": [
    "bins = np.linspace(-0.0014, -0.0009, 50)\n",
    "ind = p['order'] == -5\n",
    "out = plt.hist(p['detcirc_phi'][ind], weights=p['probability'][ind], bins=bins, label='p')\n",
    "print(np.std(p['detcirc_phi'][ind]))\n",
    "ind = pchirp['order'] == -5\n",
    "out = plt.hist(pchirp['detcirc_phi'][ind], weights=pchirp['probability'][ind], bins=bins, histtype='step', label='chirp')\n",
    "print(np.std(pchirp['detcirc_phi'][ind]))\n",
    "plt.legend()"
   ]
  },
  {
   "cell_type": "code",
   "execution_count": null,
   "metadata": {},
   "outputs": [],
   "source": [
    "bins = np.linspace(-0.0014, -0.0009, 50) + 0.00125 + 0.1229 \n",
    "ind = p['order'] == -0\n",
    "out = plt.hist(p['detcirc_phi'][ind], weights=p['probability'][ind], bins=bins)\n",
    "print(np.std(p['detcirc_phi'][ind]))\n",
    "ind = pchirp['order'] == -0\n",
    "out = plt.hist(pchirp['detcirc_phi'][ind], weights=pchirp['probability'][ind], bins=bins, histtype='step')\n",
    "print(np.std(pchirp['detcirc_phi'][ind]))"
   ]
  },
  {
   "cell_type": "code",
   "execution_count": null,
   "metadata": {},
   "outputs": [],
   "source": [
    "out[1].mean()"
   ]
  },
  {
   "cell_type": "code",
   "execution_count": null,
   "metadata": {},
   "outputs": [],
   "source": [
    "from marxs.analysis.gratings import resolvingpower_from_photonlist"
   ]
  },
  {
   "cell_type": "code",
   "execution_count": null,
   "metadata": {},
   "outputs": [],
   "source": [
    "res0, pos0, std0 = resolvingpower_from_photonlist(p, np.arange(-8, 1), col='detcirc_phi')"
   ]
  },
  {
   "cell_type": "code",
   "execution_count": null,
   "metadata": {},
   "outputs": [],
   "source": [
    "resc, posc, stdc = resolvingpower_from_photonlist(pchirp, np.arange(-8, 1), col='detcirc_phi')"
   ]
  },
  {
   "cell_type": "code",
   "execution_count": null,
   "metadata": {
    "scrolled": false
   },
   "outputs": [],
   "source": [
    "plt.plot(np.arange(-8, 1), res0)\n",
    "plt.plot(np.arange(-8, 1), resc)"
   ]
  },
  {
   "cell_type": "code",
   "execution_count": null,
   "metadata": {},
   "outputs": [],
   "source": [
    "go = instrument.elements[2].elements[96]\n",
    "gc = instrumchirp.elements[2].elements[96]"
   ]
  },
  {
   "cell_type": "code",
   "execution_count": null,
   "metadata": {},
   "outputs": [],
   "source": [
    "gc.pos4d[:,3]"
   ]
  },
  {
   "cell_type": "code",
   "execution_count": null,
   "metadata": {},
   "outputs": [],
   "source": [
    "uv = np.mgrid[-.99: .99:0.01, -.99: .99:0.01]"
   ]
  },
  {
   "cell_type": "code",
   "execution_count": null,
   "metadata": {},
   "outputs": [],
   "source": [
    "uv[0].flatten()"
   ]
  },
  {
   "cell_type": "code",
   "execution_count": null,
   "metadata": {},
   "outputs": [],
   "source": [
    "from marxs.utils import generate_test_photons\n",
    "from marxs.math.utils import h2e, e2h, norm_vector\n",
    "phot_in = generate_test_photons(uv[0].flatten().shape[0])\n",
    "phot_in['energy'] = 0.5\n",
    "phot_in['pos'] = go.geometry['center'][None, :] + 100 * go.geometry['e_x'][None, :] + uv[0].flatten()[:, None] * go.geometry['v_y'][None, :] + uv[1].flatten()[:, None] * go.geometry['v_z'][None, :]\n",
    "phot_in['dir'] = -norm_vector(e2h(h2e(phot_in['pos']), 0))"
   ]
  },
  {
   "cell_type": "code",
   "execution_count": null,
   "metadata": {},
   "outputs": [],
   "source": [
    "instrument.elements"
   ]
  },
  {
   "cell_type": "code",
   "execution_count": null,
   "metadata": {},
   "outputs": [],
   "source": [
    "p1 = Sequence(elements=[go, instrument.elements[9]])(phot_in.copy())\n",
    "p2 = Sequence(elements=[gc, instrument.elements[9]])(phot_in.copy())"
   ]
  },
  {
   "cell_type": "code",
   "execution_count": null,
   "metadata": {},
   "outputs": [],
   "source": [
    "from marxs.optics import OrderSelector\n",
    "go.order_selector = OrderSelector([-5])\n",
    "gc.order_selector = go.order_selector"
   ]
  },
  {
   "cell_type": "code",
   "execution_count": null,
   "metadata": {
    "scrolled": true
   },
   "outputs": [],
   "source": [
    "ind = p1['detcirc_phi'] < 0.12\n",
    "plt.plot(p1['detcirc_phi'][ind], p1['detcirc_y'][ind], '.')\n",
    "plt.plot(p2['detcirc_phi'][ind], p2['detcirc_y'][ind], '.')"
   ]
  },
  {
   "cell_type": "code",
   "execution_count": null,
   "metadata": {},
   "outputs": [],
   "source": [
    "bins = 100\n",
    "out = plt.hist(p1['detcirc_phi'][ind], weights=p1['probability'][ind], bins=bins)\n",
    "out = plt.hist(p2['detcirc_phi'][ind], weights=p2['probability'][ind], bins=bins, histtype='step')"
   ]
  },
  {
   "cell_type": "code",
   "execution_count": null,
   "metadata": {},
   "outputs": [],
   "source": [
    "ind"
   ]
  },
  {
   "cell_type": "code",
   "execution_count": null,
   "metadata": {},
   "outputs": [],
   "source": [
    "plt.plot(p1['grat_y'], p1['grat_z'], '.')"
   ]
  },
  {
   "cell_type": "code",
   "execution_count": null,
   "metadata": {},
   "outputs": [],
   "source": [
    "go._d"
   ]
  },
  {
   "cell_type": "code",
   "execution_count": null,
   "metadata": {},
   "outputs": [],
   "source": [
    "gc._d()"
   ]
  },
  {
   "cell_type": "code",
   "execution_count": null,
   "metadata": {},
   "outputs": [],
   "source": [
    "gc._d(np.vstack([p2['grat_y'].data, p2['grat_z'].data]).T)"
   ]
  },
  {
   "cell_type": "code",
   "execution_count": null,
   "metadata": {},
   "outputs": [],
   "source": []
  }
 ],
 "metadata": {
  "hide_input": false,
  "kernelspec": {
   "display_name": "Python [conda env:arcustest]",
   "language": "python",
   "name": "conda-env-arcustest-py"
  },
  "language_info": {
   "codemirror_mode": {
    "name": "ipython",
    "version": 3
   },
   "file_extension": ".py",
   "mimetype": "text/x-python",
   "name": "python",
   "nbconvert_exporter": "python",
   "pygments_lexer": "ipython3",
   "version": "3.6.6"
  }
 },
 "nbformat": 4,
 "nbformat_minor": 2
}
