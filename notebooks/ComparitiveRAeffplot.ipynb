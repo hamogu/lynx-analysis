{
 "cells": [
  {
   "cell_type": "markdown",
   "metadata": {},
   "source": [
    "# Make plots to compare effective area and resolving power of Lynx XGS with other missiosn\n",
    "\n",
    "## Chandra data\n",
    "\n",
    "I selected some examples in Chaser, based on typical usage scenarios.\n",
    "\n",
    "- An early HETGS (= HETG + ACIS-S) observation\n",
    "- A recent HETGS (= HETG + ACIS-S) observation (with effective area reduced due to contamination)\n",
    "- A random LETGS (=LETG + HRC-S) observation\n",
    "\n",
    "Other modes are in use, e.g. LETG+ACIS-S, but this should be good enough to give a typical range of Chandra's capabilities. I downloaded the data from TGCat and will use teh arfs and rmfs to make the plot.\n",
    "\n",
    "## XMM\n",
    "I just chose to read the data from an XMM observation that I happened to have on file.\n",
    "\n",
    "## Lynx\n",
    "I'm using data from my most recent Lynx run for the CATXGS, covering XXX. \n"
   ]
  },
  {
   "cell_type": "code",
   "execution_count": null,
   "metadata": {},
   "outputs": [],
   "source": [
    "import os\n",
    "import glob\n",
    "\n",
    "import numpy as np\n",
    "from astropy.io import fits\n",
    "from astropy.table import Table\n",
    "import astropy.units as u\n",
    "from astropy.modeling import models, fitting\n",
    "\n",
    "import matplotlib.pyplot as plt\n",
    "%matplotlib inline"
   ]
  },
  {
   "cell_type": "code",
   "execution_count": null,
   "metadata": {},
   "outputs": [],
   "source": [
    "u.set_enabled_equivalencies(u.spectral())"
   ]
  },
  {
   "cell_type": "markdown",
   "metadata": {},
   "source": [
    "## Read-in data"
   ]
  },
  {
   "cell_type": "code",
   "execution_count": null,
   "metadata": {},
   "outputs": [],
   "source": [
    "def process_rmf(rmffile, path=''):\n",
    "    rmf = Table.read(path+rmffile)\n",
    "    # Assuming the entire peak in in the rmf (sometimes cut off near the edges)\n",
    "    rmf['fwhm'] = [2*np.sqrt(2*(np.log(2))) * np.std(np.arange(len(row)) * row) for row in rmf['MATRIX']]\n",
    "    rmf['wave'] = (0.5 * rmf['ENERG_LO'] + 0.5 * rmf['ENERG_HI']).to(u.Angstrom)\n",
    "    # Assuming bins are about constant in wavelength range (I know they are not)\n",
    "    rmf['delta_wave'] = rmf['ENERG_LO'].to(u.Angstrom) - rmf['ENERG_HI'].to(u.Angstrom)\n",
    "    rmf['R'] = rmf['wave'] / (rmf['fwhm'] * rmf['delta_wave'])\n",
    "    return rmf\n",
    "    \n",
    "def read_arf_rmf(rmffile, arfs, path=''):\n",
    "    rmf = process_rmf(rmffile, path)\n",
    "    # assuming arf and rmf have same energy grid\n",
    "    return Table({'wave': rmf['wave'], 'R': rmf['R'], 'Aeff': sum([Table.read(path+a)['SPECRESP'] for a in arfs])})\n",
    "\n",
    "def fwhm_from_fit(rmf):\n",
    "    fit_g = fitting.LevMarLSQFitter()\n",
    "    fwhm = np.zeros(len(rmf))\n",
    "    for i in range(len(fwhm)):\n",
    "        y = rmf['MATRIX'][i]\n",
    "        x = np.arange(len(y))\n",
    "        ind = y > 0\n",
    "        g_init = models.Gaussian1D(amplitude=np.max(y), mean=np.argmax(y), stddev=20.)\n",
    "        g = fit_g(g_init, x[ind], y[ind])\n",
    "        fwhm[i] = 2*np.sqrt(2*(np.log(2))) * g.stddev\n",
    "    return fwhm"
   ]
  },
  {
   "cell_type": "code",
   "execution_count": null,
   "metadata": {},
   "outputs": [],
   "source": [
    "# Chandra\n",
    "path = '/melkor/d1/guenther/downdata/Chandra/Lynxcompplot/tgcat/'\n",
    "megearly = read_arf_rmf('meg_1.rmf.gz', ['meg_-1.arf.gz', 'meg_1.arf.gz'], path + 'obs_1236_tgid_3631/')\n",
    "hegearly = read_arf_rmf('heg_1.rmf.gz', ['heg_-1.arf.gz', 'heg_1.arf.gz'], path + 'obs_1236_tgid_3631/')\n",
    "meglate = read_arf_rmf('meg_1.rmf.gz', ['meg_-1.arf.gz', 'meg_1.arf.gz'], path + 'obs_20154_tgid_5483/')\n",
    "heglate = read_arf_rmf('heg_1.rmf.gz', ['heg_-1.arf.gz', 'heg_1.arf.gz'], path + 'obs_20154_tgid_5483/')\n",
    "heglate = read_arf_rmf('leg_1.rmf.gz', ['leg_-1.arf.gz', 'leg_1.arf.gz'], path + 'obs_20712_tgid_5404/')\n",
    "\n",
    "# Cur off part where matrix does not contain complete RMF and thus the simple std fails\n",
    "hegearly = hegearly[150:]"
   ]
  },
  {
   "cell_type": "code",
   "execution_count": null,
   "metadata": {},
   "outputs": [],
   "source": [
    "path = '/melkor/d1/guenther/downdata/XMM/TWHya/0112880201/pps/'\n",
    "xmmr1 = process_rmf('P0112880201R1S004RSPMAT1003.FTZ', path=path)\n",
    "xmmr1['SPECRESP'] = [np.sum(row) for row in xmmr1['MATRIX']]\n",
    "xmmr2 = process_rmf('P0112880201R2S005RSPMAT1003.FTZ', path=path)\n",
    "xmmr2['SPECRESP'] = [np.sum(row) for row in xmmr2['MATRIX']]"
   ]
  },
  {
   "cell_type": "code",
   "execution_count": null,
   "metadata": {},
   "outputs": [],
   "source": [
    "xmmr1['fwhm'] = fwhm_from_fit(xmmr1)"
   ]
  },
  {
   "cell_type": "code",
   "execution_count": null,
   "metadata": {},
   "outputs": [],
   "source": [
    "xmmr2['fwhm'] = fwhm_from_fit(xmmr2)"
   ]
  },
  {
   "cell_type": "code",
   "execution_count": null,
   "metadata": {},
   "outputs": [],
   "source": [
    "for rmf in [xmmr1, xmmr2]:\n",
    "    rmf['R'] = rmf['wave'] / (rmf['fwhm'] * rmf['delta_wave'])"
   ]
  },
  {
   "cell_type": "code",
   "execution_count": null,
   "metadata": {},
   "outputs": [],
   "source": [
    "xmm = xmmr1.copy()\n",
    "xmm['SPECRESP'] = xmmr1['SPECRESP'] + xmmr2['SPECRESP']\n",
    "xmm['Aeff'] = xmm['SPECRESP']\n",
    "xmm['R'] = np.where(xmmr1['R'] > xmmr2['R'], xmmr1['R'], xmmr2['R'])\n",
    "from scipy.signal import convolve, boxcar\n",
    "#xmm['R'] = convolve(xmm['R'], boxcar(M=150), mode='same')"
   ]
  },
  {
   "cell_type": "code",
   "execution_count": null,
   "metadata": {
    "scrolled": false
   },
   "outputs": [],
   "source": [
    "plt.plot(xmm['wave'], xmm['R'], 'k')\n",
    "\n",
    "def RunningPercentile(x,N):\n",
    "    idx = np.arange(N) + np.arange(len(x)-N+1)[:,None]\n",
    "    b = [row[row>0] for row in x[idx]]\n",
    "    #return np.array(map(np.median,b))\n",
    "    return np.array([np.percentile(c, 20) for c in b])\n",
    "\n",
    "plt.plot(xmm['wave'][49: -50], RunningPercentile(xmm['R'], 100))\n",
    "\n",
    "xmm['R'][49: -50] =  RunningPercentile(xmm['R'], 100)\n",
    "# Cut off part where matrix does not contain complete RMF and thus the simple std fails\n",
    "xmm = xmm[350:-350]"
   ]
  },
  {
   "cell_type": "code",
   "execution_count": null,
   "metadata": {},
   "outputs": [],
   "source": [
    "lynx = Table.read('/melkor/d1/guenther/projects/Lynx/figures/lynxRaeff.ecsv', format='ascii')"
   ]
  },
  {
   "cell_type": "code",
   "execution_count": null,
   "metadata": {},
   "outputs": [],
   "source": [
    "megearly.colnames"
   ]
  },
  {
   "cell_type": "code",
   "execution_count": null,
   "metadata": {},
   "outputs": [],
   "source": [
    "plt.style.use('seaborn')\n",
    "#plt.style.use('bmh')"
   ]
  },
  {
   "cell_type": "code",
   "execution_count": null,
   "metadata": {},
   "outputs": [],
   "source": [
    "kwlynx = {'c': 'k', 'lw': 3, 'label': 'Lynx/XGS'}\n",
    "kwxmm = {'ls': '--', 'label': 'XMM/RGS'}\n",
    "kwchan = {'label': 'Chandra/MEG\\n(at launch)'}\n",
    "\n",
    "kwsinglefig = {'figsize': (5, 4)}\n",
    "figpath = '/melkor/d1/guenther/projects/Lynx/figures/Jessica/'"
   ]
  },
  {
   "cell_type": "code",
   "execution_count": null,
   "metadata": {},
   "outputs": [],
   "source": [
    "def allax(ax):\n",
    "    ax.set_xlim(8, 40)\n",
    "    ax.set_xlabel('wavelength [$\\AA$]')    \n",
    "\n",
    "def Aeff(ax):\n",
    "    allax(ax)\n",
    "    ax.plot(lynx['wave'] * 10, lynx['Aeff'], **kwlynx)\n",
    "    ax.plot(xmm['wave'], xmm['Aeff'], **kwxmm)\n",
    "    ax.plot(megearly['wave'], megearly['Aeff'], **kwchan)\n",
    "    ax.set_ylabel('Effective area [cm$^2$]')\n",
    "    ax.set_title('Effective area')\n",
    "\n",
    "    \n",
    "def R(ax):\n",
    "    allax(ax)\n",
    "    ax.plot(lynx['wave'] * 10, lynx['R'], **kwlynx)\n",
    "    ax.plot(xmm['wave'], xmm['R'], **kwxmm)\n",
    "    ax.plot(megearly['wave'], megearly['R'], **kwchan)\n",
    "    ax.set_ylabel('Resolving power')\n",
    "    ax.set_title('Resolving power')\n",
    "\n",
    "\n",
    "def plot_FOM(ax):\n",
    "    allax(ax)\n",
    "    ax.plot(lynx['wave'] * 10, FOM(lynx), **kwlynx)\n",
    "    ax.plot(xmm['wave'], FOM(xmm), **kwxmm)\n",
    "    ax.plot(megearly['wave'], FOM(megearly), **kwchan)\n",
    "    ax.set_title('FOM = $R * \\sqrt{A_{\\mathrm{eff}}}$')    \n",
    "    ax.set_ylabel('FOM')"
   ]
  },
  {
   "cell_type": "code",
   "execution_count": null,
   "metadata": {},
   "outputs": [],
   "source": [
    "def FOM(tab):\n",
    "    return tab['R'] * np.sqrt(tab['Aeff'])"
   ]
  },
  {
   "cell_type": "code",
   "execution_count": null,
   "metadata": {},
   "outputs": [],
   "source": [
    "fig, ax = plt.subplots(**kwsinglefig)\n",
    "Aeff(ax)\n",
    "#ax.legend(loc=(.4, .15))\n",
    "fig.savefig(figpath + 'Aeff.pdf', bbox_inches='tight')"
   ]
  },
  {
   "cell_type": "code",
   "execution_count": null,
   "metadata": {},
   "outputs": [],
   "source": [
    "fig, ax = plt.subplots(**kwsinglefig)\n",
    "Aeff(ax)\n",
    "#ax.legend(loc=(.2, .6), ncol=2)\n",
    "ax.set_yscale('log')\n",
    "ax.set_ylim(1, 5e3)\n",
    "fig.savefig(figpath + 'Aeff_log.pdf', bbox_inches='tight')"
   ]
  },
  {
   "cell_type": "code",
   "execution_count": null,
   "metadata": {},
   "outputs": [],
   "source": [
    "fig, ax = plt.subplots(**kwsinglefig)\n",
    "R(ax)\n",
    "#ax.legend(loc=(.4, .15))\n",
    "ax.set_ylim(0, 1.5e4)\n",
    "fig.savefig(figpath + 'R.pdf', bbox_inches='tight')"
   ]
  },
  {
   "cell_type": "code",
   "execution_count": null,
   "metadata": {},
   "outputs": [],
   "source": [
    "fig, ax = plt.subplots(**kwsinglefig)\n",
    "R(ax)\n",
    "#ax.legend(loc=(.4, .15))\n",
    "ax.set_yscale('log')\n",
    "ax.set_ylim(1e2, 3e4)\n",
    "ax.set_ylim(0, 1.5e4)\n",
    "fig.savefig(figpath + 'R_log.pdf', bbox_inches='tight')"
   ]
  },
  {
   "cell_type": "code",
   "execution_count": null,
   "metadata": {
    "scrolled": true
   },
   "outputs": [],
   "source": [
    "fig, ax = plt.subplots(**kwsinglefig)\n",
    "plot_FOM(ax)\n",
    "#ax.legend(loc=(.4, .15))\n",
    "fig.savefig(figpath + 'FOM.pdf', bbox_inches='tight')"
   ]
  },
  {
   "cell_type": "code",
   "execution_count": null,
   "metadata": {},
   "outputs": [],
   "source": [
    "fig, ax = plt.subplots(**kwsinglefig)\n",
    "plot_FOM(ax)\n",
    "#ax.legend(loc=(.4, .55))\n",
    "ax.set_yscale('log')\n",
    "ax.set_ylim(1e2, 1e6)\n",
    "fig.savefig(figpath + 'FOM_log.pdf', bbox_inches='tight')"
   ]
  },
  {
   "cell_type": "code",
   "execution_count": null,
   "metadata": {},
   "outputs": [],
   "source": [
    "fig, ax = plt.subplots(**kwsinglefig)\n",
    "plot_FOM(ax)\n",
    "ax.set_yscale('log')\n",
    "ax.set_ylim(1e2, 1e6)\n",
    "ax.plot(hegearly['wave'], FOM(hegearly), label='Chandra/HEG')\n",
    "ax.legend(loc=(.4, .55))"
   ]
  },
  {
   "cell_type": "code",
   "execution_count": null,
   "metadata": {},
   "outputs": [],
   "source": [
    "fig, axes = plt.subplots(figsize=(12,3), ncols=3)\n",
    "\n",
    "ax = axes[0]\n",
    "ax.plot(lynx['wave'] * 10, lynx['Aeff'], **kwlynx)\n",
    "ax.plot(xmm['wave'], xmm['Aeff'], **kwxmm)\n",
    "ax.plot(megearly['wave'], megearly['Aeff'], **kwchan)\n",
    "\n",
    "ax.set_xlim(8, 40)\n",
    "ax.set_xlabel('wavelength [$\\AA$]')\n",
    "ax.set_ylabel('Effective area [cm$^2$]')\n",
    "ax.set_yscale('log')\n",
    "ax.set_ylim(1, 6e3)\n",
    "\n",
    "ax.set_title('effective area')\n",
    "\n",
    "ax=axes[1]\n",
    "ax.plot(lynx['wave'] * 10, lynx['R'], **kwlynx)\n",
    "ax.plot(xmm['wave'], xmm['R'], **kwxmm)\n",
    "ax.plot(megearly['wave'], megearly['R'], **kwchan)\n",
    "\n",
    "ax.set_xlim(8, 40)\n",
    "ax.set_xlabel('wavelength [$\\AA$]')\n",
    "ax.set_ylabel('Resolving power')\n",
    "ax.set_yscale('log')\n",
    "ax.set_ylim(.5, 2e4)\n",
    "ax.set_title('Resolving power')\n",
    "ax.legend(loc='lower left', ncol=2)\n",
    "\n",
    "ax = axes[2]\n",
    "ax.plot(lynx['wave'] * 10, FOM(lynx), **kwlynx)\n",
    "ax.plot(xmm['wave'], FOM(xmm), **kwxmm)\n",
    "ax.plot(megearly['wave'], FOM(megearly), **kwchan)\n",
    "\n",
    "ax.set_xlim(8, 40)\n",
    "ax.set_xlabel('wavelength [$\\AA$]')\n",
    "ax.set_ylabel('FOM')\n",
    "ax.set_yscale('log')\n",
    "ax.set_ylim(50, 1e6)\n",
    "ax.set_title('FOM = $R * \\sqrt{A_{\\mathrm{eff}}}$')\n",
    "fig.subplots_adjust(wspace=.4)"
   ]
  },
  {
   "cell_type": "code",
   "execution_count": null,
   "metadata": {},
   "outputs": [],
   "source": [
    "fig, axes = plt.subplots(figsize=(12,3), ncols=3)\n",
    "\n",
    "ax = axes[0]\n",
    "ax.plot(lynx['wave'] * 10, lynx['Aeff'], **kwlynx)\n",
    "ax.plot(xmm['wave'], xmm['Aeff'], **kwxmm)\n",
    "ax.plot(megearly['wave'], megearly['Aeff'], **kwchan)\n",
    "\n",
    "ax.set_xlim(8, 40)\n",
    "ax.set_xlabel('wavelength [$\\AA$]')\n",
    "ax.set_ylabel('Effective area [cm$^2$]')\n",
    "ax.set_ylim(0, 5e3)\n",
    "\n",
    "ax.set_title('Effective area')\n",
    "\n",
    "ax=axes[1]\n",
    "ax.plot(lynx['wave'] * 10, lynx['R'], **kwlynx)\n",
    "ax.plot(xmm['wave'], xmm['R'], **kwxmm)\n",
    "ax.plot(megearly['wave'], megearly['R'], **kwchan)\n",
    "\n",
    "ax.set_xlim(8, 40)\n",
    "ax.set_xlabel('wavelength [$\\AA$]')\n",
    "ax.set_ylabel('Resolving power')\n",
    "ax.set_ylim(0, 1.15e4)\n",
    "ax.set_title('Resolving power')\n",
    "ax.legend(loc='lower left', ncol=2)\n",
    "\n",
    "ax = axes[2]\n",
    "ax.plot(lynx['wave'] * 10, FOM(lynx), **kwlynx)\n",
    "ax.plot(xmm['wave'], FOM(xmm), **kwxmm)\n",
    "ax.plot(megearly['wave'], FOM(megearly), **kwchan)\n",
    "\n",
    "ax.set_xlim(8, 40)\n",
    "ax.set_xlabel('wavelength [$\\AA$]')\n",
    "ax.set_ylabel('FOM')\n",
    "ax.set_ylim(0, 6e5)\n",
    "ax.set_title('FOM = $R * \\sqrt{A_{\\mathrm{eff}}}$')\n",
    "fig.subplots_adjust(wspace=.4)"
   ]
  },
  {
   "cell_type": "code",
   "execution_count": null,
   "metadata": {},
   "outputs": [],
   "source": []
  }
 ],
 "metadata": {
  "hide_input": false,
  "kernelspec": {
   "display_name": "Python [conda env:py3]",
   "language": "python",
   "name": "conda-env-py3-py"
  },
  "language_info": {
   "codemirror_mode": {
    "name": "ipython",
    "version": 3
   },
   "file_extension": ".py",
   "mimetype": "text/x-python",
   "name": "python",
   "nbconvert_exporter": "python",
   "pygments_lexer": "ipython3",
   "version": "3.7.2"
  }
 },
 "nbformat": 4,
 "nbformat_minor": 2
}
