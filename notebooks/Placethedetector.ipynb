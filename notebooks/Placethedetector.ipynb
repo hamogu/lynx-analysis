{
 "cells": [
  {
   "cell_type": "markdown",
   "metadata": {},
   "source": [
    "# Positioning the detectors for the grating spectrograph"
   ]
  },
  {
   "cell_type": "code",
   "execution_count": null,
   "metadata": {},
   "outputs": [],
   "source": [
    "from nbtemplate import display_header, get_path\n",
    "display_header('Placethedetector.ipynb')"
   ]
  },
  {
   "cell_type": "markdown",
   "metadata": {},
   "source": [
    "## Goal\n",
    "\n",
    "Currently, there are two instruments planned for Lynx that need to be located at the focal point. One of them is a microcalorimeter, which is mounted in a dewar. For the grating spectrometer, we need a separate detector to catch the dispersed light. Because of the dewar, this detector cannot reach down close to the zeroth order. \n",
    "\n",
    "We design the spectrometer with critical angle transmission (CAT) gratings, which are operated with a certain blaze angle. Most of the dispersed signal is found close to twice the blaze angle in a region called the blaze peak. The width of this peak depends on the grating properties (such as the dimensions of the grating bars) and the distribution of blaze angles (due to the finite size of the gratings and the finite size of the mirror PSF not all rays hit the gratings at the blaze angle chosen in the design).\n",
    "\n",
    "In this notebook, I simulate our fiducial design for the spectrometer and analyze which fraction of the photons can be detected for a detector of a given size and position.\n",
    "\n",
    "In the last section, I also look at the signal seen in the zeroth order for a range of energies."
   ]
  },
  {
   "cell_type": "code",
   "execution_count": null,
   "metadata": {},
   "outputs": [],
   "source": [
    "import sys\n",
    "import numpy as np\n",
    "from astropy.coordinates import SkyCoord\n",
    "from astropy.table import Table, QTable, join\n",
    "import astropy.units as u\n",
    "import marxs\n",
    "from marxs import visualization\n",
    "\n",
    "from marxs.source import PointSource, FixedPointing, JitterPointing\n",
    "from marxs.analysis import resolvingpower_from_photonlist\n",
    "from marxs.simulator import Sequence\n",
    "\n",
    "%matplotlib inline\n",
    "import matplotlib.pyplot as plt"
   ]
  },
  {
   "cell_type": "code",
   "execution_count": null,
   "metadata": {},
   "outputs": [],
   "source": [
    "from marxslynx import lynx"
   ]
  },
  {
   "cell_type": "code",
   "execution_count": null,
   "metadata": {},
   "outputs": [],
   "source": [
    "wave = np.arange(12., 50., .1) * u.Angstrom\n",
    "energy = wave.to(u.keV, equivalencies = u.spectral())\n",
    "flux = np.ones(len(wave))[1:] / np.abs(np.diff(energy))\n",
    "\n",
    "mysource = PointSource(coords=SkyCoord(0., 0., unit='deg'),\n",
    "                       energy=Table({\"energy\": energy[::-1][1:], \n",
    "                                     \"fluxdensity\": flux[::-1] / u.cm**2 / u.s}),\n",
    "                       flux=1. / u.s / u.cm**2)\n",
    "fixedpointing = FixedPointing(coords=SkyCoord(0., 0., unit='deg'))\n",
    "photons = mysource.generate_photons(1e5 * u.s)\n",
    "photons = fixedpointing(photons)"
   ]
  },
  {
   "cell_type": "code",
   "execution_count": null,
   "metadata": {},
   "outputs": [],
   "source": [
    "pl = lynx.PerfectLynx()\n",
    "\n",
    "photons = pl(photons)\n",
    "photons = photons[np.isfinite(photons['order'])]"
   ]
  },
  {
   "cell_type": "code",
   "execution_count": null,
   "metadata": {},
   "outputs": [],
   "source": [
    "fig = plt.figure()\n",
    "ax = fig.add_subplot(111)\n",
    "ind = (photons['detcirc_phi'] > -0.1) & (photons['detcirc_phi'] < 0.3)\n",
    "out = ax.hist(photons['detcirc_phi'][ind], weights=photons['probability'][ind], bins=50)\n",
    "ax.set_ylabel('Number of photons / bin')\n",
    "ax.set_xlabel(r'$\\varphi$ (rad)')"
   ]
  },
  {
   "cell_type": "markdown",
   "metadata": {},
   "source": [
    "Using a simulation with a flat input spectrum (in wavelength space), this figure shows the angular distribution of photons. The x-coordinate of the plot is the angle measured on a cylindrical detector along the Rowland circle."
   ]
  },
  {
   "cell_type": "code",
   "execution_count": null,
   "metadata": {},
   "outputs": [],
   "source": [
    "photons['wave'] = photons['energy'].to(u.Angstrom, equivalencies=u.spectral())\n",
    "wavelim = np.arange(12., 49, 12)\n",
    "px = [photons['proj_x'][(photons['wave'] > wavelim[i]) & (photons['wave'] < wavelim[i+1])] for i in range(len(wavelim)-1)]\n",
    "weights = [photons['probability'][(photons['wave'] > wavelim[i]) & (photons['wave'] < wavelim[i+1])] for i in range(len(wavelim)- 1)]\n",
    "labels = ['{}-{} nm'.format(wavelim[i]/10, wavelim[i+1]/10) for i in range(len(wavelim) -1)]"
   ]
  },
  {
   "cell_type": "code",
   "execution_count": null,
   "metadata": {},
   "outputs": [],
   "source": [
    "fig = plt.figure(figsize=(4,3))\n",
    "ax = fig.add_subplot(111)\n",
    "out = ax.hist(px, weights=weights, bins=np.arange(-400, 800, 30), histtype='barstacked', label=labels)\n",
    "ax.legend()\n",
    "ax.set_ylabel('Number of photons')\n",
    "ax.set_xlabel('Distance from focal point [mm]')\n",
    "fig.savefig(get_path('figures')+ '/detectorplacement.png', \n",
    "            dpi=300, bbox_inches='tight')\n",
    "fig.savefig(get_path('figures') + '/detectorplacement.pdf', bbox_inches='tight')\n"
   ]
  },
  {
   "cell_type": "markdown",
   "metadata": {},
   "source": [
    "This is a very similar to the plot above. This time, the x-axis of the plot is simply the distance of the detected position projected onto the focal plane. The blaze peak is wider for photons with a longer wavelength. From this figure, we cal already read off that we need to cover about the region from 400 to 700 mm measured from the zeroth order to collect the bulk of the dispersed signal."
   ]
  },
  {
   "cell_type": "code",
   "execution_count": null,
   "metadata": {},
   "outputs": [],
   "source": [
    "fig = plt.figure(figsize=(8, 5))\n",
    "ax1 = fig.add_subplot(121)\n",
    "ax2 = fig.add_subplot(122)\n",
    "\n",
    "for i in np.arange(-9, 1):\n",
    "    porder = photons[photons['order'] == i]\n",
    "    out = ax1.hist(porder['proj_x'], weights=porder['probability'], bins=np.arange(-400, 800, 25.), \n",
    "                   label=f'{i}', histtype='step')\n",
    "    out = ax2.hist(porder['wave'], weights=porder['probability'], bins=np.arange(5., 50., 1.),\n",
    "                  histtype='step')\n",
    "\n",
    "ax1.legend(loc='upper left')\n",
    "ax1.set_ylabel('Number of photons')\n",
    "ax1.set_xlabel('Distance from focal point [mm]')\n",
    "ax2.set_xlabel('wavelength [Ang]')\n",
    "ax2.set_ylabel('Number of photons')"
   ]
  },
  {
   "cell_type": "markdown",
   "metadata": {},
   "source": [
    "*left:* Same plot as above, but separated by dispersion order. *right:* Most wavelength will be dispersed into more than one order and each order is relevant for a range of wavelength."
   ]
  },
  {
   "cell_type": "markdown",
   "metadata": {},
   "source": [
    "## The zeroth order\n",
    "\n",
    "The presence of the CAT gratings reduces the signal detected in the zeroth order. Some photons are dispersed to higher orders (after all, that is why we use the gratings in the first place), but there is also a loss due to absorption by the grating frames, the mounting structure, the support structure that is part of the grating membrane, and also the grating bars themselves. For high energies, Si becomes transparent, but the grating still disperse some signal because they act as phase shifting gratings at that point.\n",
    "\n",
    "On the other hand, the signal detected in the zeroth order is scientifically valuable. First, an accurate wavelength calibration depends on the position of the zeroth order, and second, the microcalorimeter offers a better resolving power at higher energies than the CAT gratings, not to mention a much higher signal. If sufficient light passes through the gratings, soft X-rays can be analyzed in the grating spectrometer at the same time as the high-energy photons are analyzed in the microcalorimeter."
   ]
  },
  {
   "cell_type": "code",
   "execution_count": null,
   "metadata": {},
   "outputs": [],
   "source": [
    "from marxs import optics\n",
    "from marxslynx.lynx import conf\n"
   ]
  },
  {
   "cell_type": "code",
   "execution_count": null,
   "metadata": {},
   "outputs": [],
   "source": [
    "from marxslynx.lynx import RowlandDetArray\n",
    "conf['det_kwargs']['theta'] = [3.1, 3.18]\n",
    "r = RowlandDetArray(conf)"
   ]
  },
  {
   "cell_type": "code",
   "execution_count": null,
   "metadata": {},
   "outputs": [],
   "source": [
    "energybins = np.arange(.1, 10, .1) * u.keV\n",
    "energymidpoints = 0.5 * (energybins[:-1] + energybins[1:])"
   ]
  },
  {
   "cell_type": "code",
   "execution_count": null,
   "metadata": {},
   "outputs": [],
   "source": [
    "mysource = PointSource(coords=SkyCoord(0., 0., unit='deg'),\n",
    "                           energy=QTable({\"energy\": energybins, \n",
    "                                   \"fluxdensity\": np.ones(len(energybins)) / u.s / u.cm**2 / u.keV}),\n",
    "                      )\n",
    "fixedpointing = FixedPointing(coords=SkyCoord(0., 0., unit='deg'))\n",
    "photons = mysource.generate_photons(2e5 * u.s)\n",
    "photons = fixedpointing(photons)"
   ]
  },
  {
   "cell_type": "code",
   "execution_count": null,
   "metadata": {},
   "outputs": [],
   "source": [
    "# My current efficieny table for the mirror stops at 3 keV. \n",
    "# In order to simulate anything at higher energy, I need to extend that range.\n",
    "# I make two assumptions here. Both are clearly wrong, but should be sufficienct for\n",
    "# a simple estimate of the relative loss of photons at high energies.\n",
    "from marxslynx.mirror import metashelleff, metashellgeometry, MetaShellEfficiency\n",
    "from scipy.interpolate import interp1d\n",
    "\n",
    "lastrow = pl.elements[1].elements[1].relative_eff[:, -1].reshape(12, 1)\n",
    "releff = np.hstack([pl.elements[1].elements[1].relative_eff, \n",
    "                    lastrow, lastrow])\n",
    "energy = np.hstack([metashelleff['energy'], 3.1, 12.])\n",
    "extendedrangeshell = MetaShellEfficiency()\n",
    "extendedrangeshell.shells = [(i, interp1d(energy, releff[i - 1, :]))\n",
    "                              for i in metashellgeometry['Metashell Serial Number']]\n",
    "pl.elements[1].elements[1] = extendedrangeshell"
   ]
  },
  {
   "cell_type": "code",
   "execution_count": null,
   "metadata": {},
   "outputs": [],
   "source": [
    "photons = pl.elements[0](photons)\n",
    "photons = pl.elements[1](photons)"
   ]
  },
  {
   "cell_type": "code",
   "execution_count": null,
   "metadata": {},
   "outputs": [],
   "source": [
    "pl.elements[2].elements[0].elements[0]"
   ]
  },
  {
   "cell_type": "code",
   "execution_count": null,
   "metadata": {},
   "outputs": [],
   "source": [
    "# Now run with uncoated gratings\n",
    "from marxs.optics.grating import CATGrating\n",
    "from marxslynx.ralfgrating import order_selector_Si\n",
    "\n",
    "for e in pl.elements_of_class(CATGrating):\n",
    "    e.order_selector = order_selector_Si\n",
    "    \n",
    "p = pl.elements[2](photons.copy())\n",
    "p = pl.elements[3](p)\n",
    "p = pl.elements[4](p)"
   ]
  },
  {
   "cell_type": "code",
   "execution_count": null,
   "metadata": {},
   "outputs": [],
   "source": [
    "# Now run the same with Pt coated gratings\n",
    "from marxslynx.ralfgrating import order_selector_SiPt\n",
    "\n",
    "for e in pl.elements_of_class(CATGrating):\n",
    "    e.order_selector = order_selector_SiPt\n",
    "\n",
    "ppt = pl.elements[2](photons.copy())\n",
    "ppt = pl.elements[3](ppt)\n",
    "ppt = pl.elements[4](ppt)"
   ]
  },
  {
   "cell_type": "code",
   "execution_count": null,
   "metadata": {},
   "outputs": [],
   "source": [
    "before = np.histogram(photons['energy'], weights=photons['probability'], bins=energybins)\n",
    "ind = p['order'] == 0\n",
    "after = np.histogram(p['energy'][ind], weights=p['probability'][ind], bins=energybins)\n",
    "ind = ppt['order'] == 0\n",
    "afterpt = np.histogram(ppt['energy'][ind], weights=ppt['probability'][ind], bins=energybins)"
   ]
  },
  {
   "cell_type": "code",
   "execution_count": null,
   "metadata": {},
   "outputs": [],
   "source": [
    "fig = plt.figure(figsize=(4,3))\n",
    "ax = fig.add_subplot(111)\n",
    "frac = after[0] / before[0]\n",
    "fracpt = afterpt[0] / before[0]\n",
    "tsubaperangle = np.linspace(0, np.pi/2, 7)[1:]\n",
    "for i, ang in enumerate(tsubaperangle):\n",
    "    line, = ax.plot(energymidpoints, \n",
    "             1 - ((2 * ang)/np.pi * frac + (np.pi -(2*ang))/np.pi), \n",
    "             label='{:3.0f} %'.format(np.rad2deg(ang)*4/360*100))\n",
    "    ax.plot(energymidpoints, \n",
    "            1 - ((2 * ang)/np.pi * fracpt + (np.pi -(2 * ang))/np.pi), \n",
    "            ls=':', color=line.get_color())\n",
    "ax.legend(title='Aperture area\\ncovered\\nby gratings', ncol=1, loc='upper right')\n",
    "ax.set_xlabel('energy [keV]')\n",
    "ax.set_ylabel('fraction of photons removed from\\nbeam when XGS is inserted')\n",
    "ax.set_ylim([0, 1.])\n",
    "ax.set_xlim([0, 16.])\n",
    "fig.savefig(get_path('figures') + '/highen.png', \n",
    "            dpi=300, bbox_inches='tight')\n",
    "fig.savefig(get_path('figures') + '/highen.pdf', bbox_inches='tight')"
   ]
  },
  {
   "cell_type": "markdown",
   "metadata": {},
   "source": [
    "This plot shows how much of the incoming signal is removed from the beam by the CAT gratings. The solid lines are for pure Si gratings, the dotted lines for Si gratings coated with Pt. This increases the grating efficiency between 1 and 2 keV, but is also reduces the signal seen in zeroth order. Different colors represent different filling factor. At this point, we do not take into account how the effective area of the mirror changes from the center to the outer shells. Still, even in this simple approximation, 70% of the high-energy signal would still be available for the microcalorimeter, even if we cover 2/3 of the aperture with CAT gratings. This fraction decreases for lower energies, in particular when using PT coated gratings, but below about 2 keV the dispersed signal in the grating spectrometer is more valuable than the zeroth-order signal anyway. Unless the entire aperture is filled with gratings, there will still be sufficient signal at the zeroth order to determine the position, even for very soft sources."
   ]
  }
 ],
 "metadata": {
  "hide_input": false,
  "kernelspec": {
   "display_name": "Python [conda env:mayavi46] *",
   "language": "python",
   "name": "conda-env-mayavi46-py"
  },
  "language_info": {
   "codemirror_mode": {
    "name": "ipython",
    "version": 3
   },
   "file_extension": ".py",
   "mimetype": "text/x-python",
   "name": "python",
   "nbconvert_exporter": "python",
   "pygments_lexer": "ipython3",
   "version": "3.8.2"
  }
 },
 "nbformat": 4,
 "nbformat_minor": 2
}
